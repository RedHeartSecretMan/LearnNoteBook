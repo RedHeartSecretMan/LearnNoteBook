{
 "cells": [
  {
   "cell_type": "markdown",
   "id": "63a8e730",
   "metadata": {
    "origin_pos": 0
   },
   "source": [
    "# GPU\n",
    ":label:`sec_use_gpu`\n",
    "\n",
    "在 :numref:`tab_intro_decade`中，\n",
    "我们回顾了过去20年计算能力的快速增长。\n",
    "简而言之，自2000年以来，GPU性能每十年增长1000倍。\n",
    "\n",
    "本节，我们将讨论如何利用这种计算性能进行研究。\n",
    "首先是如何使用单个GPU，然后是如何使用多个GPU和多个服务器（具有多个GPU）。\n",
    "\n",
    "我们先看看如何使用单个NVIDIA GPU进行计算。\n",
    "首先，确保至少安装了一个NVIDIA GPU。\n",
    "然后，下载[NVIDIA驱动和CUDA](https://developer.nvidia.com/cuda-downloads)\n",
    "并按照提示设置适当的路径。\n",
    "当这些准备工作完成，就可以使用`nvidia-smi`命令来(**查看显卡信息。**)\n"
   ]
  },
  {
   "cell_type": "code",
   "execution_count": 1,
   "id": "b3af5564",
   "metadata": {
    "execution": {
     "iopub.execute_input": "2022-12-07T19:10:00.169781Z",
     "iopub.status.busy": "2022-12-07T19:10:00.169219Z",
     "iopub.status.idle": "2022-12-07T19:10:02.344846Z",
     "shell.execute_reply": "2022-12-07T19:10:02.343046Z"
    },
    "origin_pos": 1,
    "tab": [
     "paddle"
    ]
   },
   "outputs": [
    {
     "name": "stdout",
     "output_type": "stream",
     "text": [
      "Wed Dec  7 19:10:01 2022       \r\n",
      "+-----------------------------------------------------------------------------+\r\n",
      "| NVIDIA-SMI 460.106.00   Driver Version: 460.106.00   CUDA Version: 11.2     |\r\n",
      "|-------------------------------+----------------------+----------------------+\r\n",
      "| GPU  Name        Persistence-M| Bus-Id        Disp.A | Volatile Uncorr. ECC |\r\n",
      "| Fan  Temp  Perf  Pwr:Usage/Cap|         Memory-Usage | GPU-Util  Compute M. |\r\n",
      "|                               |                      |               MIG M. |\r\n",
      "|===============================+======================+======================|\r\n"
     ]
    },
    {
     "name": "stdout",
     "output_type": "stream",
     "text": [
      "|   0  Tesla V100-SXM2...  Off  | 00000000:00:1B.0 Off |                    0 |\r\n",
      "| N/A   22C    P0    46W / 300W |      0MiB / 16160MiB |      0%      Default |\r\n",
      "|                               |                      |                  N/A |\r\n",
      "+-------------------------------+----------------------+----------------------+\r\n",
      "|   1  Tesla V100-SXM2...  Off  | 00000000:00:1D.0 Off |                    0 |\r\n",
      "| N/A   22C    P0    49W / 300W |   1436MiB / 16160MiB |      0%      Default |\r\n",
      "|                               |                      |                  N/A |\r\n",
      "+-------------------------------+----------------------+----------------------+\r\n",
      "|   2  Tesla V100-SXM2...  Off  | 00000000:00:1E.0 Off |                    0 |\r\n",
      "| N/A   19C    P0    48W / 300W |      0MiB / 16160MiB |      0%      Default |\r\n",
      "|                               |                      |                  N/A |\r\n",
      "+-------------------------------+----------------------+----------------------+\r\n",
      "                                                                               \r\n",
      "+-----------------------------------------------------------------------------+\r\n",
      "| Processes:                                                                  |\r\n",
      "|  GPU   GI   CI        PID   Type   Process name                  GPU Memory |\r\n",
      "|        ID   ID                                                   Usage      |\r\n",
      "|=============================================================================|\r\n",
      "+-----------------------------------------------------------------------------+\r\n"
     ]
    }
   ],
   "source": [
    "!nvidia-smi"
   ]
  },
  {
   "cell_type": "markdown",
   "id": "815f544e",
   "metadata": {
    "origin_pos": 4,
    "tab": [
     "paddle"
    ]
   },
   "source": [
    "在PaddlePaddle中，每个张量都有一个设备（device），\n",
    "我们通常将其称为上下文（context）。\n",
    "默认情况下，所有变量和相关的计算都分配给CPU。\n",
    "有时上下文可能是GPU。\n",
    "当我们跨多个服务器部署作业时，事情会变得更加棘手。\n",
    "通过智能地将数组分配给上下文，\n",
    "我们可以最大限度地减少在设备之间传输数据的时间。\n",
    "例如，当在带有GPU的服务器上训练神经网络时，\n",
    "我们通常希望模型的参数在GPU上。\n",
    "\n",
    "接下来，我们需要确认安装了PaddlePaddle的GPU版本。\n",
    "如果已经安装了PaddlePaddle的CPU版本，我们需要先卸载它。\n",
    "然后根据你的CUDA版本安装相应的PaddlePaddle的GPU版本。\n",
    "例如，假设你安装了CUDA10.1，你可以通过`conda install paddlepaddle-gpu==2.2.2 cudatoolkit=10.1 --channel https://mirrors.tuna.tsinghua.edu.cn/anaconda/cloud/Paddle/`安装支持CUDA10.1的PaddlePaddle版本。\n"
   ]
  },
  {
   "cell_type": "markdown",
   "id": "4a4ec031",
   "metadata": {
    "origin_pos": 5
   },
   "source": [
    "要运行此部分中的程序，至少需要两个GPU。\n",
    "注意，对大多数桌面计算机来说，这可能是奢侈的，但在云中很容易获得。\n",
    "例如可以使用AWS EC2的多GPU实例。\n",
    "本书的其他章节大都不需要多个GPU，\n",
    "而本节只是为了展示数据如何在不同的设备之间传递。\n",
    "\n",
    "## [**计算设备**]\n",
    "\n",
    "我们可以指定用于存储和计算的设备，如CPU和GPU。\n",
    "默认情况下，张量是在内存中创建的，然后使用CPU计算它。\n"
   ]
  },
  {
   "cell_type": "markdown",
   "id": "98d8ad99",
   "metadata": {
    "origin_pos": 8,
    "tab": [
     "paddle"
    ]
   },
   "source": [
    "在飞桨中，CPU和GPU可以用`paddle.device.set_device('cpu')` \n",
    "和`paddle.device.set_device('gpu')`表示。 \n",
    "应该注意的是，`cpu`设备意味着所有物理CPU和内存,\n",
    "这意味着飞桨的计算将尝试使用所有CPU核心。 \n",
    "然而，`gpu`设备只代表一个卡和相应的显存。 \n",
    "如果有多个GPU，我们使用`paddle.device.get_device()`\n",
    "其中输出的数字是表示的是卡号（比如`gpu:3`，表示的是卡3，注意GPU的卡号是从0开始的）。 \n",
    "另外，`gpu:0`和`gpu`是等价的。\n"
   ]
  },
  {
   "cell_type": "code",
   "execution_count": 2,
   "id": "a23ba3a5",
   "metadata": {
    "execution": {
     "iopub.execute_input": "2022-12-07T19:10:02.354351Z",
     "iopub.status.busy": "2022-12-07T19:10:02.353791Z",
     "iopub.status.idle": "2022-12-07T19:10:06.148702Z",
     "shell.execute_reply": "2022-12-07T19:10:06.147797Z"
    },
    "origin_pos": 12,
    "tab": [
     "paddle"
    ]
   },
   "outputs": [
    {
     "data": {
      "text/plain": [
       "(Place(cpu), Place(gpu:0), Place(gpu:1))"
      ]
     },
     "execution_count": 2,
     "metadata": {},
     "output_type": "execute_result"
    }
   ],
   "source": [
    "import paddle\n",
    "from paddle import nn\n",
    "\n",
    "paddle.device.set_device(\"cpu\"), paddle.CUDAPlace(0), paddle.CUDAPlace(1)"
   ]
  },
  {
   "cell_type": "markdown",
   "id": "45052502",
   "metadata": {
    "origin_pos": 13
   },
   "source": [
    "我们可以(**查询可用gpu的数量。**)\n"
   ]
  },
  {
   "cell_type": "code",
   "execution_count": 3,
   "id": "07f3a62b",
   "metadata": {
    "execution": {
     "iopub.execute_input": "2022-12-07T19:10:06.152898Z",
     "iopub.status.busy": "2022-12-07T19:10:06.151988Z",
     "iopub.status.idle": "2022-12-07T19:10:06.157750Z",
     "shell.execute_reply": "2022-12-07T19:10:06.156971Z"
    },
    "origin_pos": 17,
    "tab": [
     "paddle"
    ]
   },
   "outputs": [
    {
     "data": {
      "text/plain": [
       "2"
      ]
     },
     "execution_count": 3,
     "metadata": {},
     "output_type": "execute_result"
    }
   ],
   "source": [
    "paddle.device.cuda.device_count()"
   ]
  },
  {
   "cell_type": "markdown",
   "id": "7d323380",
   "metadata": {
    "origin_pos": 18
   },
   "source": [
    "现在我们定义了两个方便的函数，\n",
    "[**这两个函数允许我们在不存在所需所有GPU的情况下运行代码。**]\n"
   ]
  },
  {
   "cell_type": "code",
   "execution_count": 4,
   "id": "c9aa5fad",
   "metadata": {
    "execution": {
     "iopub.execute_input": "2022-12-07T19:10:06.160963Z",
     "iopub.status.busy": "2022-12-07T19:10:06.160530Z",
     "iopub.status.idle": "2022-12-07T19:10:06.168482Z",
     "shell.execute_reply": "2022-12-07T19:10:06.167760Z"
    },
    "origin_pos": 22,
    "tab": [
     "paddle"
    ]
   },
   "outputs": [
    {
     "data": {
      "text/plain": [
       "(Place(gpu:0), Place(cpu), [Place(gpu:0), Place(gpu:1)])"
      ]
     },
     "execution_count": 4,
     "metadata": {},
     "output_type": "execute_result"
    }
   ],
   "source": [
    "#@save\n",
    "def try_gpu(i=0):\n",
    "    \"\"\"如果存在，则返回gpu(i)，否则返回cpu()。\"\"\"\n",
    "    if paddle.device.cuda.device_count() >= i + 1:\n",
    "        return paddle.CUDAPlace(i)\n",
    "    return paddle.CPUPlace()\n",
    "\n",
    "#@save\n",
    "def try_all_gpus():\n",
    "    \"\"\"返回所有可用的GPU，如果没有GPU，则返回[cpu(),]。\"\"\"\n",
    "    devices = [paddle.CUDAPlace(i)\n",
    "               for i in range(paddle.device.cuda.device_count())]\n",
    "    return devices if devices else paddle.CPUPlace()\n",
    "\n",
    "try_gpu(),try_gpu(10),try_all_gpus()"
   ]
  },
  {
   "cell_type": "markdown",
   "id": "e92f4d77",
   "metadata": {
    "origin_pos": 23
   },
   "source": [
    "## 张量与GPU\n",
    "\n",
    "我们可以[**查询张量所在的设备。**]\n",
    "默认情况下，张量是在CPU上创建的。\n"
   ]
  },
  {
   "cell_type": "code",
   "execution_count": 5,
   "id": "3f7bca5b",
   "metadata": {
    "execution": {
     "iopub.execute_input": "2022-12-07T19:10:06.171661Z",
     "iopub.status.busy": "2022-12-07T19:10:06.171254Z",
     "iopub.status.idle": "2022-12-07T19:10:06.177707Z",
     "shell.execute_reply": "2022-12-07T19:10:06.176948Z"
    },
    "origin_pos": 27,
    "tab": [
     "paddle"
    ]
   },
   "outputs": [
    {
     "data": {
      "text/plain": [
       "Place(cpu)"
      ]
     },
     "execution_count": 5,
     "metadata": {},
     "output_type": "execute_result"
    }
   ],
   "source": [
    "x = paddle.to_tensor([1, 2, 3])\n",
    "x.place"
   ]
  },
  {
   "cell_type": "markdown",
   "id": "a80fad14",
   "metadata": {
    "origin_pos": 28
   },
   "source": [
    "需要注意的是，无论何时我们要对多个项进行操作，\n",
    "它们都必须在同一个设备上。\n",
    "例如，如果我们对两个张量求和，\n",
    "我们需要确保两个张量都位于同一个设备上，\n",
    "否则框架将不知道在哪里存储结果，甚至不知道在哪里执行计算。\n",
    "\n",
    "### [**存储在GPU上**]\n",
    "\n",
    "有几种方法可以在GPU上存储张量。\n",
    "例如，我们可以在创建张量时指定存储设备。接\n",
    "下来，我们在第一个`gpu`上创建张量变量`X`。\n",
    "在GPU上创建的张量只消耗这个GPU的显存。\n",
    "我们可以使用`nvidia-smi`命令查看显存使用情况。\n",
    "一般来说，我们需要确保不创建超过GPU显存限制的数据。\n"
   ]
  },
  {
   "cell_type": "code",
   "execution_count": 6,
   "id": "95ac6c6d",
   "metadata": {
    "execution": {
     "iopub.execute_input": "2022-12-07T19:10:06.180868Z",
     "iopub.status.busy": "2022-12-07T19:10:06.180464Z",
     "iopub.status.idle": "2022-12-07T19:10:07.660736Z",
     "shell.execute_reply": "2022-12-07T19:10:07.659633Z"
    },
    "origin_pos": 32,
    "tab": [
     "paddle"
    ]
   },
   "outputs": [
    {
     "name": "stdout",
     "output_type": "stream",
     "text": [
      "W1207 19:10:06.182337 64216 gpu_resources.cc:61] Please NOTE: device: 0, GPU Compute Capability: 7.0, Driver API Version: 11.2, Runtime API Version: 11.2\n",
      "W1207 19:10:06.183485 64216 gpu_resources.cc:91] device: 0, cuDNN Version: 8.3.\n"
     ]
    },
    {
     "data": {
      "text/plain": [
       "Tensor(shape=[2, 3], dtype=float32, place=Place(gpu:0), stop_gradient=True,\n",
       "       [[1., 1., 1.],\n",
       "        [1., 1., 1.]])"
      ]
     },
     "execution_count": 6,
     "metadata": {},
     "output_type": "execute_result"
    }
   ],
   "source": [
    "X = paddle.to_tensor(paddle.ones(shape=[2, 3]), place=try_gpu())\n",
    "X"
   ]
  },
  {
   "cell_type": "markdown",
   "id": "93e0a4b3",
   "metadata": {
    "origin_pos": 33
   },
   "source": [
    "假设我们至少有两个GPU，下面的代码将在(**第二个GPU上创建一个随机张量。**)\n"
   ]
  },
  {
   "cell_type": "code",
   "execution_count": 7,
   "id": "289d02b8",
   "metadata": {
    "execution": {
     "iopub.execute_input": "2022-12-07T19:10:07.664384Z",
     "iopub.status.busy": "2022-12-07T19:10:07.663853Z",
     "iopub.status.idle": "2022-12-07T19:10:08.599039Z",
     "shell.execute_reply": "2022-12-07T19:10:08.598161Z"
    },
    "origin_pos": 37,
    "tab": [
     "paddle"
    ]
   },
   "outputs": [
    {
     "data": {
      "text/plain": [
       "Tensor(shape=[2, 3], dtype=float32, place=Place(gpu:1), stop_gradient=True,\n",
       "       [[0.68350965, 0.17203669, 0.01382623],\n",
       "        [0.75973898, 0.21181485, 0.93945253]])"
      ]
     },
     "execution_count": 7,
     "metadata": {},
     "output_type": "execute_result"
    }
   ],
   "source": [
    "Y = paddle.to_tensor(paddle.rand([2, 3]), place=try_gpu(1))\n",
    "Y"
   ]
  },
  {
   "cell_type": "markdown",
   "id": "e2dbada2",
   "metadata": {
    "origin_pos": 38
   },
   "source": [
    "### 复制\n",
    "\n",
    "如果我们[**要计算`X + Y`，我们需要决定在哪里执行这个操作**]。\n",
    "例如，如 :numref:`fig_copyto`所示，\n",
    "我们可以将`X`传输到第二个GPU并在那里执行操作。\n",
    "*不要*简单地`X`加上`Y`，因为这会导致异常，\n",
    "运行时引擎不知道该怎么做：它在同一设备上找不到数据会导致失败。\n",
    "由于`Y`位于第二个GPU上，所以我们需要将`X`移到那里，\n",
    "然后才能执行相加运算。\n",
    "\n",
    "![复制数据以在同一设备上执行操作](../img/copyto.svg)\n",
    ":label:`fig_copyto`\n"
   ]
  },
  {
   "cell_type": "code",
   "execution_count": 8,
   "id": "d4894bb6",
   "metadata": {
    "execution": {
     "iopub.execute_input": "2022-12-07T19:10:08.602691Z",
     "iopub.status.busy": "2022-12-07T19:10:08.602101Z",
     "iopub.status.idle": "2022-12-07T19:10:08.608297Z",
     "shell.execute_reply": "2022-12-07T19:10:08.607243Z"
    },
    "origin_pos": 40,
    "tab": [
     "paddle"
    ]
   },
   "outputs": [
    {
     "name": "stdout",
     "output_type": "stream",
     "text": [
      "Tensor(shape=[2, 3], dtype=float32, place=Place(gpu:0), stop_gradient=True,\n",
      "       [[1., 1., 1.],\n",
      "        [1., 1., 1.]])\n",
      "Tensor(shape=[2, 3], dtype=float32, place=Place(gpu:1), stop_gradient=True,\n",
      "       [[1., 1., 1.],\n",
      "        [1., 1., 1.]])\n"
     ]
    }
   ],
   "source": [
    "Z = X.cuda(1)\n",
    "print(X)\n",
    "print(Z)"
   ]
  },
  {
   "cell_type": "markdown",
   "id": "a7a8fede",
   "metadata": {
    "origin_pos": 42
   },
   "source": [
    "[**现在数据在同一个GPU上（`Z`和`Y`都在），我们可以将它们相加。**]\n"
   ]
  },
  {
   "cell_type": "code",
   "execution_count": 9,
   "id": "aea6c2fc",
   "metadata": {
    "execution": {
     "iopub.execute_input": "2022-12-07T19:10:08.611923Z",
     "iopub.status.busy": "2022-12-07T19:10:08.611270Z",
     "iopub.status.idle": "2022-12-07T19:10:08.631360Z",
     "shell.execute_reply": "2022-12-07T19:10:08.630484Z"
    },
    "origin_pos": 43,
    "tab": [
     "paddle"
    ]
   },
   "outputs": [
    {
     "data": {
      "text/plain": [
       "Tensor(shape=[2, 3], dtype=float32, place=Place(cpu), stop_gradient=True,\n",
       "       [[1.68350959, 1.17203665, 1.01382625],\n",
       "        [1.75973892, 1.21181488, 1.93945253]])"
      ]
     },
     "execution_count": 9,
     "metadata": {},
     "output_type": "execute_result"
    }
   ],
   "source": [
    "Y + Z"
   ]
  },
  {
   "cell_type": "code",
   "execution_count": 10,
   "id": "cf194c8d",
   "metadata": {
    "execution": {
     "iopub.execute_input": "2022-12-07T19:10:08.634599Z",
     "iopub.status.busy": "2022-12-07T19:10:08.634183Z",
     "iopub.status.idle": "2022-12-07T19:10:08.640220Z",
     "shell.execute_reply": "2022-12-07T19:10:08.639400Z"
    },
    "origin_pos": 48,
    "tab": [
     "paddle"
    ]
   },
   "outputs": [
    {
     "data": {
      "text/plain": [
       "False"
      ]
     },
     "execution_count": 10,
     "metadata": {},
     "output_type": "execute_result"
    }
   ],
   "source": [
    "Z.cuda(1) is Z"
   ]
  },
  {
   "cell_type": "markdown",
   "id": "cbdc78f1",
   "metadata": {
    "origin_pos": 50
   },
   "source": [
    "### 旁注\n",
    "\n",
    "人们使用GPU来进行机器学习，因为单个GPU相对运行速度快。\n",
    "但是在设备（CPU、GPU和其他机器）之间传输数据比计算慢得多。\n",
    "这也使得并行化变得更加困难，因为我们必须等待数据被发送（或者接收），\n",
    "然后才能继续进行更多的操作。\n",
    "这就是为什么拷贝操作要格外小心。\n",
    "根据经验，多个小操作比一个大操作糟糕得多。\n",
    "此外，一次执行几个操作比代码中散布的许多单个操作要好得多。\n",
    "如果一个设备必须等待另一个设备才能执行其他操作，\n",
    "那么这样的操作可能会阻塞。\n",
    "这有点像排队订购咖啡，而不像通过电话预先订购：\n",
    "当客人到店的时候，咖啡已经准备好了。\n",
    "\n",
    "最后，当我们打印张量或将张量转换为NumPy格式时，\n",
    "如果数据不在内存中，框架会首先将其复制到内存中，\n",
    "这会导致额外的传输开销。\n",
    "更糟糕的是，它现在受制于全局解释器锁，使得一切都得等待Python完成。\n",
    "\n",
    "## [**神经网络与GPU**]\n",
    "\n",
    "类似地，神经网络模型可以指定设备。\n",
    "下面的代码将模型参数放在GPU上。\n"
   ]
  },
  {
   "cell_type": "code",
   "execution_count": 11,
   "id": "0f3d2867",
   "metadata": {
    "execution": {
     "iopub.execute_input": "2022-12-07T19:10:08.643526Z",
     "iopub.status.busy": "2022-12-07T19:10:08.643115Z",
     "iopub.status.idle": "2022-12-07T19:10:08.649025Z",
     "shell.execute_reply": "2022-12-07T19:10:08.648214Z"
    },
    "origin_pos": 54,
    "tab": [
     "paddle"
    ]
   },
   "outputs": [],
   "source": [
    "net = nn.Sequential(nn.Linear(3, 1))\n",
    "net=net.to(try_gpu())"
   ]
  },
  {
   "cell_type": "markdown",
   "id": "f1027abc",
   "metadata": {
    "origin_pos": 55
   },
   "source": [
    "在接下来的几章中，\n",
    "我们将看到更多关于如何在GPU上运行模型的例子，\n",
    "因为它们将变得更加计算密集。\n",
    "\n",
    "当输入为GPU上的张量时，模型将在同一GPU上计算结果。\n"
   ]
  },
  {
   "cell_type": "code",
   "execution_count": 12,
   "id": "e2b557ba",
   "metadata": {
    "execution": {
     "iopub.execute_input": "2022-12-07T19:10:08.652297Z",
     "iopub.status.busy": "2022-12-07T19:10:08.651886Z",
     "iopub.status.idle": "2022-12-07T19:10:08.658131Z",
     "shell.execute_reply": "2022-12-07T19:10:08.657259Z"
    },
    "origin_pos": 56,
    "tab": [
     "paddle"
    ]
   },
   "outputs": [
    {
     "data": {
      "text/plain": [
       "Tensor(shape=[2, 1], dtype=float32, place=Place(cpu), stop_gradient=False,\n",
       "       [[-3.20860338],\n",
       "        [-3.20860338]])"
      ]
     },
     "execution_count": 12,
     "metadata": {},
     "output_type": "execute_result"
    }
   ],
   "source": [
    "net(X)"
   ]
  },
  {
   "cell_type": "markdown",
   "id": "d874b07b",
   "metadata": {
    "origin_pos": 57
   },
   "source": [
    "让我们(**确认模型参数存储在同一个GPU上。**)\n"
   ]
  },
  {
   "cell_type": "code",
   "execution_count": 13,
   "id": "91683394",
   "metadata": {
    "execution": {
     "iopub.execute_input": "2022-12-07T19:10:08.661415Z",
     "iopub.status.busy": "2022-12-07T19:10:08.661006Z",
     "iopub.status.idle": "2022-12-07T19:10:08.666997Z",
     "shell.execute_reply": "2022-12-07T19:10:08.666104Z"
    },
    "origin_pos": 61,
    "tab": [
     "paddle"
    ]
   },
   "outputs": [
    {
     "data": {
      "text/plain": [
       "Place(cpu)"
      ]
     },
     "execution_count": 13,
     "metadata": {},
     "output_type": "execute_result"
    }
   ],
   "source": [
    "net[0].weight.place"
   ]
  },
  {
   "cell_type": "markdown",
   "id": "6aa5e1a5",
   "metadata": {
    "origin_pos": 62
   },
   "source": [
    "总之，只要所有的数据和参数都在同一个设备上，\n",
    "我们就可以有效地学习模型。\n",
    "在下面的章节中，我们将看到几个这样的例子。\n",
    "\n",
    "## 小结\n",
    "\n",
    "* 我们可以指定用于存储和计算的设备，例如CPU或GPU。默认情况下，数据在主内存中创建，然后使用CPU进行计算。\n",
    "* 深度学习框架要求计算的所有输入数据都在同一设备上，无论是CPU还是GPU。\n",
    "* 不经意地移动数据可能会显著降低性能。一个典型的错误如下：计算GPU上每个小批量的损失，并在命令行中将其报告给用户（或将其记录在NumPy `ndarray`中）时，将触发全局解释器锁，从而使所有GPU阻塞。最好是为GPU内部的日志分配内存，并且只移动较大的日志。\n",
    "\n",
    "## 练习\n",
    "\n",
    "1. 尝试一个计算量更大的任务，比如大矩阵的乘法，看看CPU和GPU之间的速度差异。再试一个计算量很小的任务呢？\n",
    "1. 我们应该如何在GPU上读写模型参数？\n",
    "1. 测量计算1000个$100 \\times 100$矩阵的矩阵乘法所需的时间，并记录输出矩阵的Frobenius范数，一次记录一个结果，而不是在GPU上保存日志并仅传输最终结果。\n",
    "1. 测量同时在两个GPU上执行两个矩阵乘法与在一个GPU上按顺序执行两个矩阵乘法所需的时间。提示：应该看到近乎线性的缩放。\n"
   ]
  },
  {
   "cell_type": "markdown",
   "id": "a9f7603c",
   "metadata": {
    "origin_pos": 66,
    "tab": [
     "paddle"
    ]
   },
   "source": [
    "[Discussions](https://discuss.d2l.ai/t/11782)\n"
   ]
  }
 ],
 "metadata": {
  "language_info": {
   "name": "python"
  }
 },
 "nbformat": 4,
 "nbformat_minor": 5
}