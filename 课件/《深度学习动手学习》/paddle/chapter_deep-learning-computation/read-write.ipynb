{
 "cells": [
  {
   "cell_type": "markdown",
   "id": "407fbdbd",
   "metadata": {
    "origin_pos": 0
   },
   "source": [
    "# 读写文件\n",
    "\n",
    "到目前为止，我们讨论了如何处理数据，\n",
    "以及如何构建、训练和测试深度学习模型。\n",
    "然而，有时我们希望保存训练的模型，\n",
    "以备将来在各种环境中使用（比如在部署中进行预测）。\n",
    "此外，当运行一个耗时较长的训练过程时，\n",
    "最佳的做法是定期保存中间结果，\n",
    "以确保在服务器电源被不小心断掉时，我们不会损失几天的计算结果。\n",
    "因此，现在是时候学习如何加载和存储权重向量和整个模型了。\n",
    "\n",
    "## (**加载和保存张量**)\n",
    "\n",
    "对于单个张量，我们可以直接调用`load`和`save`函数分别读写它们。\n",
    "这两个函数都要求我们提供一个名称，`save`要求将要保存的变量作为输入。\n"
   ]
  },
  {
   "cell_type": "code",
   "execution_count": 1,
   "id": "91e7fb0a",
   "metadata": {
    "execution": {
     "iopub.execute_input": "2022-12-07T20:04:33.814315Z",
     "iopub.status.busy": "2022-12-07T20:04:33.813625Z",
     "iopub.status.idle": "2022-12-07T20:04:35.237300Z",
     "shell.execute_reply": "2022-12-07T20:04:35.236295Z"
    },
    "origin_pos": 4,
    "tab": [
     "paddle"
    ]
   },
   "outputs": [],
   "source": [
    "import warnings\n",
    "\n",
    "warnings.filterwarnings(action='ignore')\n",
    "import paddle\n",
    "from paddle import nn\n",
    "from paddle.nn import functional as F\n",
    "\n",
    "x = paddle.arange(4)\n",
    "paddle.save(x, 'x-file')"
   ]
  },
  {
   "cell_type": "markdown",
   "id": "f560a1fa",
   "metadata": {
    "origin_pos": 5
   },
   "source": [
    "我们现在可以将存储在文件中的数据读回内存。\n"
   ]
  },
  {
   "cell_type": "code",
   "execution_count": 2,
   "id": "309241f9",
   "metadata": {
    "execution": {
     "iopub.execute_input": "2022-12-07T20:04:35.241487Z",
     "iopub.status.busy": "2022-12-07T20:04:35.240941Z",
     "iopub.status.idle": "2022-12-07T20:04:35.252578Z",
     "shell.execute_reply": "2022-12-07T20:04:35.251880Z"
    },
    "origin_pos": 9,
    "tab": [
     "paddle"
    ]
   },
   "outputs": [
    {
     "data": {
      "text/plain": [
       "Tensor(shape=[4], dtype=int64, place=Place(cpu), stop_gradient=True,\n",
       "       [0, 1, 2, 3])"
      ]
     },
     "execution_count": 2,
     "metadata": {},
     "output_type": "execute_result"
    }
   ],
   "source": [
    "x2 = paddle.load('x-file')\n",
    "x2"
   ]
  },
  {
   "cell_type": "markdown",
   "id": "405d94a8",
   "metadata": {
    "origin_pos": 10
   },
   "source": [
    "我们可以[**存储一个张量列表，然后把它们读回内存。**]\n"
   ]
  },
  {
   "cell_type": "code",
   "execution_count": 3,
   "id": "cce4145f",
   "metadata": {
    "execution": {
     "iopub.execute_input": "2022-12-07T20:04:35.255832Z",
     "iopub.status.busy": "2022-12-07T20:04:35.255402Z",
     "iopub.status.idle": "2022-12-07T20:04:35.261936Z",
     "shell.execute_reply": "2022-12-07T20:04:35.261246Z"
    },
    "origin_pos": 14,
    "tab": [
     "paddle"
    ]
   },
   "outputs": [
    {
     "data": {
      "text/plain": [
       "(Tensor(shape=[4], dtype=int64, place=Place(cpu), stop_gradient=True,\n",
       "        [0, 1, 2, 3]),\n",
       " Tensor(shape=[4], dtype=float32, place=Place(cpu), stop_gradient=True,\n",
       "        [0., 0., 0., 0.]))"
      ]
     },
     "execution_count": 3,
     "metadata": {},
     "output_type": "execute_result"
    }
   ],
   "source": [
    "y = paddle.zeros([4])\n",
    "paddle.save([x,y], 'x-file')\n",
    "x2, y2 = paddle.load('x-file')\n",
    "(x2, y2)"
   ]
  },
  {
   "cell_type": "markdown",
   "id": "f2d52b85",
   "metadata": {
    "origin_pos": 15
   },
   "source": [
    "我们甚至可以(**写入或读取从字符串映射到张量的字典**)。\n",
    "当我们要读取或写入模型中的所有权重时，这很方便。\n"
   ]
  },
  {
   "cell_type": "code",
   "execution_count": 4,
   "id": "17635a0f",
   "metadata": {
    "execution": {
     "iopub.execute_input": "2022-12-07T20:04:35.265209Z",
     "iopub.status.busy": "2022-12-07T20:04:35.264701Z",
     "iopub.status.idle": "2022-12-07T20:04:35.271098Z",
     "shell.execute_reply": "2022-12-07T20:04:35.270355Z"
    },
    "origin_pos": 19,
    "tab": [
     "paddle"
    ]
   },
   "outputs": [
    {
     "data": {
      "text/plain": [
       "{'x': Tensor(shape=[4], dtype=int64, place=Place(cpu), stop_gradient=True,\n",
       "        [0, 1, 2, 3]),\n",
       " 'y': Tensor(shape=[4], dtype=float32, place=Place(cpu), stop_gradient=True,\n",
       "        [0., 0., 0., 0.])}"
      ]
     },
     "execution_count": 4,
     "metadata": {},
     "output_type": "execute_result"
    }
   ],
   "source": [
    "mydict = {'x': x, 'y': y}\n",
    "paddle.save(mydict, 'mydict')\n",
    "mydict2 = paddle.load('mydict')\n",
    "mydict2"
   ]
  },
  {
   "cell_type": "markdown",
   "id": "f72c3f08",
   "metadata": {
    "origin_pos": 20
   },
   "source": [
    "## [**加载和保存模型参数**]\n",
    "\n",
    "保存单个权重向量（或其他张量）确实有用，\n",
    "但是如果我们想保存整个模型，并在以后加载它们，\n",
    "单独保存每个向量则会变得很麻烦。\n",
    "毕竟，我们可能有数百个参数散布在各处。\n",
    "因此，深度学习框架提供了内置函数来保存和加载整个网络。\n",
    "需要注意的一个重要细节是，这将保存模型的参数而不是保存整个模型。\n",
    "例如，如果我们有一个3层多层感知机，我们需要单独指定架构。\n",
    "因为模型本身可以包含任意代码，所以模型本身难以序列化。\n",
    "因此，为了恢复模型，我们需要用代码生成架构，\n",
    "然后从磁盘加载参数。\n",
    "让我们从熟悉的多层感知机开始尝试一下。\n"
   ]
  },
  {
   "cell_type": "code",
   "execution_count": 5,
   "id": "0e1c0475",
   "metadata": {
    "execution": {
     "iopub.execute_input": "2022-12-07T20:04:35.274130Z",
     "iopub.status.busy": "2022-12-07T20:04:35.273718Z",
     "iopub.status.idle": "2022-12-07T20:04:35.342465Z",
     "shell.execute_reply": "2022-12-07T20:04:35.341660Z"
    },
    "origin_pos": 24,
    "tab": [
     "paddle"
    ]
   },
   "outputs": [],
   "source": [
    "class MLP(nn.Layer):\n",
    "    def __init__(self):\n",
    "        super().__init__()\n",
    "        self.hidden = nn.Linear(20, 256)\n",
    "        self.output = nn.Linear(256, 10)\n",
    "\n",
    "    def forward(self, x):\n",
    "        return self.output(F.relu(self.hidden(x)))\n",
    "\n",
    "net = MLP()\n",
    "X = paddle.randn(shape=[2, 20])\n",
    "Y = net(X)"
   ]
  },
  {
   "cell_type": "markdown",
   "id": "380146ce",
   "metadata": {
    "origin_pos": 25
   },
   "source": [
    "接下来，我们[**将模型的参数存储在一个叫做“mlp.params”的文件中。**]\n"
   ]
  },
  {
   "cell_type": "code",
   "execution_count": 6,
   "id": "d83ad8c4",
   "metadata": {
    "execution": {
     "iopub.execute_input": "2022-12-07T20:04:35.347081Z",
     "iopub.status.busy": "2022-12-07T20:04:35.346595Z",
     "iopub.status.idle": "2022-12-07T20:04:35.351329Z",
     "shell.execute_reply": "2022-12-07T20:04:35.350549Z"
    },
    "origin_pos": 29,
    "tab": [
     "paddle"
    ]
   },
   "outputs": [],
   "source": [
    "paddle.save(net.state_dict(), 'mlp.pdparams')"
   ]
  },
  {
   "cell_type": "markdown",
   "id": "b3acf550",
   "metadata": {
    "origin_pos": 30
   },
   "source": [
    "为了恢复模型，我们[**实例化了原始多层感知机模型的一个备份。**]\n",
    "这里我们不需要随机初始化模型参数，而是(**直接读取文件中存储的参数。**)\n"
   ]
  },
  {
   "cell_type": "code",
   "execution_count": 7,
   "id": "898fe0f3",
   "metadata": {
    "execution": {
     "iopub.execute_input": "2022-12-07T20:04:35.355573Z",
     "iopub.status.busy": "2022-12-07T20:04:35.355165Z",
     "iopub.status.idle": "2022-12-07T20:04:35.360923Z",
     "shell.execute_reply": "2022-12-07T20:04:35.360179Z"
    },
    "origin_pos": 34,
    "tab": [
     "paddle"
    ]
   },
   "outputs": [],
   "source": [
    "clone = MLP()\n",
    "clone.set_state_dict(paddle.load('mlp.pdparams'))\n",
    "clone.eval()"
   ]
  },
  {
   "cell_type": "markdown",
   "id": "49ba1798",
   "metadata": {
    "origin_pos": 35
   },
   "source": [
    "由于两个实例具有相同的模型参数，在输入相同的`X`时，\n",
    "两个实例的计算结果应该相同。\n",
    "让我们来验证一下。\n"
   ]
  },
  {
   "cell_type": "code",
   "execution_count": 8,
   "id": "f829e5be",
   "metadata": {
    "execution": {
     "iopub.execute_input": "2022-12-07T20:04:35.365357Z",
     "iopub.status.busy": "2022-12-07T20:04:35.364724Z",
     "iopub.status.idle": "2022-12-07T20:04:35.370789Z",
     "shell.execute_reply": "2022-12-07T20:04:35.370019Z"
    },
    "origin_pos": 37,
    "tab": [
     "paddle"
    ]
   },
   "outputs": [
    {
     "data": {
      "text/plain": [
       "Tensor(shape=[2, 10], dtype=bool, place=Place(cpu), stop_gradient=False,\n",
       "       [[True, True, True, True, True, True, True, True, True, True],\n",
       "        [True, True, True, True, True, True, True, True, True, True]])"
      ]
     },
     "execution_count": 8,
     "metadata": {},
     "output_type": "execute_result"
    }
   ],
   "source": [
    "Y_clone = clone(X)\n",
    "Y_clone == Y"
   ]
  },
  {
   "cell_type": "markdown",
   "id": "869bb973",
   "metadata": {
    "origin_pos": 39
   },
   "source": [
    "## 小结\n",
    "\n",
    "* `save`和`load`函数可用于张量对象的文件读写。\n",
    "* 我们可以通过参数字典保存和加载网络的全部参数。\n",
    "* 保存架构必须在代码中完成，而不是在参数中完成。\n",
    "\n",
    "## 练习\n",
    "\n",
    "1. 即使不需要将经过训练的模型部署到不同的设备上，存储模型参数还有什么实际的好处？\n",
    "1. 假设我们只想复用网络的一部分，以将其合并到不同的网络架构中。比如想在一个新的网络中使用之前网络的前两层，该怎么做？\n",
    "1. 如何同时保存网络架构和参数？需要对架构加上什么限制？\n"
   ]
  },
  {
   "cell_type": "markdown",
   "id": "56fbdcd1",
   "metadata": {
    "origin_pos": 43,
    "tab": [
     "paddle"
    ]
   },
   "source": [
    "[Discussions](https://discuss.d2l.ai/t/11781)\n"
   ]
  }
 ],
 "metadata": {
  "language_info": {
   "name": "python"
  }
 },
 "nbformat": 4,
 "nbformat_minor": 5
}