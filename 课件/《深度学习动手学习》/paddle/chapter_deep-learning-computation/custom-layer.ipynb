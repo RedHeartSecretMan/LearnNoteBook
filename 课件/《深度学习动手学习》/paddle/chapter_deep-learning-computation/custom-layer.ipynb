{
 "cells": [
  {
   "cell_type": "markdown",
   "id": "4e40bed5",
   "metadata": {
    "origin_pos": 0
   },
   "source": [
    "# 自定义层\n",
    "\n",
    "深度学习成功背后的一个因素是神经网络的灵活性：\n",
    "我们可以用创造性的方式组合不同的层，从而设计出适用于各种任务的架构。\n",
    "例如，研究人员发明了专门用于处理图像、文本、序列数据和执行动态规划的层。\n",
    "有时我们会遇到或要自己发明一个现在在深度学习框架中还不存在的层。\n",
    "在这些情况下，必须构建自定义层。本节将展示如何构建自定义层。\n",
    "\n",
    "## 不带参数的层\n",
    "\n",
    "首先，我们(**构造一个没有任何参数的自定义层**)。\n",
    "回忆一下在 :numref:`sec_model_construction`对块的介绍，\n",
    "这应该看起来很眼熟。\n",
    "下面的`CenteredLayer`类要从其输入中减去均值。\n",
    "要构建它，我们只需继承基础层类并实现前向传播功能。\n"
   ]
  },
  {
   "cell_type": "code",
   "execution_count": 1,
   "id": "66419e2b",
   "metadata": {
    "execution": {
     "iopub.execute_input": "2022-12-07T20:07:06.750439Z",
     "iopub.status.busy": "2022-12-07T20:07:06.749883Z",
     "iopub.status.idle": "2022-12-07T20:07:08.211440Z",
     "shell.execute_reply": "2022-12-07T20:07:08.210314Z"
    },
    "origin_pos": 4,
    "tab": [
     "paddle"
    ]
   },
   "outputs": [],
   "source": [
    "import warnings\n",
    "\n",
    "warnings.filterwarnings(action='ignore')\n",
    "import paddle\n",
    "import paddle.nn.functional as F\n",
    "from paddle import nn\n",
    "\n",
    "\n",
    "class CenteredLayer(nn.Layer):\n",
    "    def __init__(self):\n",
    "        super().__init__()\n",
    "\n",
    "    def forward(self, X):\n",
    "        return X - X.mean()"
   ]
  },
  {
   "cell_type": "markdown",
   "id": "bd5e0736",
   "metadata": {
    "origin_pos": 5
   },
   "source": [
    "让我们向该层提供一些数据，验证它是否能按预期工作。\n"
   ]
  },
  {
   "cell_type": "code",
   "execution_count": 2,
   "id": "a5358a1d",
   "metadata": {
    "execution": {
     "iopub.execute_input": "2022-12-07T20:07:08.215875Z",
     "iopub.status.busy": "2022-12-07T20:07:08.215187Z",
     "iopub.status.idle": "2022-12-07T20:07:08.228934Z",
     "shell.execute_reply": "2022-12-07T20:07:08.228022Z"
    },
    "origin_pos": 9,
    "tab": [
     "paddle"
    ]
   },
   "outputs": [
    {
     "data": {
      "text/plain": [
       "Tensor(shape=[5], dtype=float32, place=Place(cpu), stop_gradient=True,\n",
       "       [-2., -1.,  0.,  1.,  2.])"
      ]
     },
     "execution_count": 2,
     "metadata": {},
     "output_type": "execute_result"
    }
   ],
   "source": [
    "layer = CenteredLayer()\n",
    "layer(paddle.to_tensor([1, 2, 3, 4, 5], dtype='float32'))"
   ]
  },
  {
   "cell_type": "markdown",
   "id": "3adafbc6",
   "metadata": {
    "origin_pos": 10
   },
   "source": [
    "现在，我们可以[**将层作为组件合并到更复杂的模型中**]。\n"
   ]
  },
  {
   "cell_type": "code",
   "execution_count": 3,
   "id": "28c28bc1",
   "metadata": {
    "execution": {
     "iopub.execute_input": "2022-12-07T20:07:08.232324Z",
     "iopub.status.busy": "2022-12-07T20:07:08.231655Z",
     "iopub.status.idle": "2022-12-07T20:07:08.237181Z",
     "shell.execute_reply": "2022-12-07T20:07:08.236126Z"
    },
    "origin_pos": 12,
    "tab": [
     "paddle"
    ]
   },
   "outputs": [],
   "source": [
    "net = nn.Sequential(nn.Linear(8, 128), CenteredLayer())"
   ]
  },
  {
   "cell_type": "markdown",
   "id": "cca33d7c",
   "metadata": {
    "origin_pos": 14
   },
   "source": [
    "作为额外的健全性检查，我们可以在向该网络发送随机数据后，检查均值是否为0。\n",
    "由于我们处理的是浮点数，因为存储精度的原因，我们仍然可能会看到一个非常小的非零数。\n"
   ]
  },
  {
   "cell_type": "code",
   "execution_count": 4,
   "id": "6b700e12",
   "metadata": {
    "execution": {
     "iopub.execute_input": "2022-12-07T20:07:08.240643Z",
     "iopub.status.busy": "2022-12-07T20:07:08.239912Z",
     "iopub.status.idle": "2022-12-07T20:07:08.275756Z",
     "shell.execute_reply": "2022-12-07T20:07:08.274830Z"
    },
    "origin_pos": 18,
    "tab": [
     "paddle"
    ]
   },
   "outputs": [
    {
     "data": {
      "text/plain": [
       "Tensor(shape=[1], dtype=float32, place=Place(cpu), stop_gradient=False,\n",
       "       [-0.00000000])"
      ]
     },
     "execution_count": 4,
     "metadata": {},
     "output_type": "execute_result"
    }
   ],
   "source": [
    "Y = net(paddle.rand([4, 8]))\n",
    "Y.mean()"
   ]
  },
  {
   "cell_type": "markdown",
   "id": "2f3dfa71",
   "metadata": {
    "origin_pos": 19
   },
   "source": [
    "## [**带参数的层**]\n",
    "\n",
    "以上我们知道了如何定义简单的层，下面我们继续定义具有参数的层，\n",
    "这些参数可以通过训练进行调整。\n",
    "我们可以使用内置函数来创建参数，这些函数提供一些基本的管理功能。\n",
    "比如管理访问、初始化、共享、保存和加载模型参数。\n",
    "这样做的好处之一是：我们不需要为每个自定义层编写自定义的序列化程序。\n",
    "\n",
    "现在，让我们实现自定义版本的全连接层。\n",
    "回想一下，该层需要两个参数，一个用于表示权重，另一个用于表示偏置项。\n",
    "在此实现中，我们使用修正线性单元作为激活函数。\n",
    "该层需要输入参数：`in_units`和`units`，分别表示输入数和输出数。\n"
   ]
  },
  {
   "cell_type": "code",
   "execution_count": 5,
   "id": "9567bd4c",
   "metadata": {
    "execution": {
     "iopub.execute_input": "2022-12-07T20:07:08.279078Z",
     "iopub.status.busy": "2022-12-07T20:07:08.278579Z",
     "iopub.status.idle": "2022-12-07T20:07:08.284763Z",
     "shell.execute_reply": "2022-12-07T20:07:08.283779Z"
    },
    "origin_pos": 23,
    "tab": [
     "paddle"
    ]
   },
   "outputs": [],
   "source": [
    "class MyLinear(nn.Layer):\n",
    "    def __init__(self, in_units, units):\n",
    "        super().__init__()\n",
    "        self.weight = paddle.create_parameter(shape=(in_units, units), dtype='float32')\n",
    "        self.bias = paddle.create_parameter(shape=(units,), dtype='float32')\n",
    "\n",
    "    def forward(self, X):\n",
    "        linear = paddle.matmul(X, self.weight) + self.bias\n",
    "        return F.relu(linear)"
   ]
  },
  {
   "cell_type": "markdown",
   "id": "cdf88b23",
   "metadata": {
    "origin_pos": 26,
    "tab": [
     "paddle"
    ]
   },
   "source": [
    "接下来，我们实例化`MyLinear`类并访问其模型参数。\n"
   ]
  },
  {
   "cell_type": "code",
   "execution_count": 6,
   "id": "51bd536b",
   "metadata": {
    "execution": {
     "iopub.execute_input": "2022-12-07T20:07:08.288098Z",
     "iopub.status.busy": "2022-12-07T20:07:08.287611Z",
     "iopub.status.idle": "2022-12-07T20:07:08.295038Z",
     "shell.execute_reply": "2022-12-07T20:07:08.293947Z"
    },
    "origin_pos": 28,
    "tab": [
     "paddle"
    ]
   },
   "outputs": [
    {
     "data": {
      "text/plain": [
       "Parameter containing:\n",
       "Tensor(shape=[5, 3], dtype=float32, place=Place(cpu), stop_gradient=False,\n",
       "       [[ 0.07968342, -0.18760359, -0.19434726],\n",
       "        [ 0.30317837,  0.80539447,  0.44053298],\n",
       "        [ 0.79712874,  0.19726187,  0.63960844],\n",
       "        [ 0.86305267, -0.34182781,  0.34887427],\n",
       "        [ 0.73524517,  0.16592330, -0.04958087]])"
      ]
     },
     "execution_count": 6,
     "metadata": {},
     "output_type": "execute_result"
    }
   ],
   "source": [
    "linear = MyLinear(5, 3)\n",
    "linear.weight"
   ]
  },
  {
   "cell_type": "markdown",
   "id": "29a4bc03",
   "metadata": {
    "origin_pos": 30
   },
   "source": [
    "我们可以[**使用自定义层直接执行前向传播计算**]。\n"
   ]
  },
  {
   "cell_type": "code",
   "execution_count": 7,
   "id": "91ffc9fd",
   "metadata": {
    "execution": {
     "iopub.execute_input": "2022-12-07T20:07:08.298160Z",
     "iopub.status.busy": "2022-12-07T20:07:08.297711Z",
     "iopub.status.idle": "2022-12-07T20:07:08.304766Z",
     "shell.execute_reply": "2022-12-07T20:07:08.303808Z"
    },
    "origin_pos": 34,
    "tab": [
     "paddle"
    ]
   },
   "outputs": [
    {
     "data": {
      "text/plain": [
       "Tensor(shape=[2, 3], dtype=float32, place=Place(cpu), stop_gradient=False,\n",
       "       [[0.89794636, 0.        , 0.        ],\n",
       "        [1.52104723, 1.33450389, 0.26487458]])"
      ]
     },
     "execution_count": 7,
     "metadata": {},
     "output_type": "execute_result"
    }
   ],
   "source": [
    "linear(paddle.randn([2, 5]))"
   ]
  },
  {
   "cell_type": "markdown",
   "id": "aa2e3dd4",
   "metadata": {
    "origin_pos": 35
   },
   "source": [
    "我们还可以(**使用自定义层构建模型**)，就像使用内置的全连接层一样使用自定义层。\n"
   ]
  },
  {
   "cell_type": "code",
   "execution_count": 8,
   "id": "96cf73ed",
   "metadata": {
    "execution": {
     "iopub.execute_input": "2022-12-07T20:07:08.308242Z",
     "iopub.status.busy": "2022-12-07T20:07:08.307503Z",
     "iopub.status.idle": "2022-12-07T20:07:08.316367Z",
     "shell.execute_reply": "2022-12-07T20:07:08.315355Z"
    },
    "origin_pos": 39,
    "tab": [
     "paddle"
    ]
   },
   "outputs": [
    {
     "data": {
      "text/plain": [
       "Tensor(shape=[2, 1], dtype=float32, place=Place(cpu), stop_gradient=False,\n",
       "       [[1.29990053],\n",
       "        [1.87737477]])"
      ]
     },
     "execution_count": 8,
     "metadata": {},
     "output_type": "execute_result"
    }
   ],
   "source": [
    "net = nn.Sequential(MyLinear(64, 8), MyLinear(8, 1))\n",
    "net(paddle.rand([2, 64]))"
   ]
  },
  {
   "cell_type": "markdown",
   "id": "f4fc0ffa",
   "metadata": {
    "origin_pos": 40
   },
   "source": [
    "## 小结\n",
    "\n",
    "* 我们可以通过基本层类设计自定义层。这允许我们定义灵活的新层，其行为与深度学习框架中的任何现有层不同。\n",
    "* 在自定义层定义完成后，我们就可以在任意环境和网络架构中调用该自定义层。\n",
    "* 层可以有局部参数，这些参数可以通过内置函数创建。\n",
    "\n",
    "## 练习\n",
    "\n",
    "1. 设计一个接受输入并计算张量降维的层，它返回$y_k = \\sum_{i, j} W_{ijk} x_i x_j$。\n",
    "1. 设计一个返回输入数据的傅立叶系数前半部分的层。\n"
   ]
  },
  {
   "cell_type": "markdown",
   "id": "5aa9f2ee",
   "metadata": {
    "origin_pos": 44,
    "tab": [
     "paddle"
    ]
   },
   "source": [
    "[Discussions](https://discuss.d2l.ai/t/11780)\n"
   ]
  }
 ],
 "metadata": {
  "language_info": {
   "name": "python"
  }
 },
 "nbformat": 4,
 "nbformat_minor": 5
}