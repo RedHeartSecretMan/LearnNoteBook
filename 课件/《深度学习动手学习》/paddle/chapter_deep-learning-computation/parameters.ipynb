{
 "cells": [
  {
   "cell_type": "markdown",
   "id": "095fe19a",
   "metadata": {
    "origin_pos": 0
   },
   "source": [
    "# 参数管理\n",
    "\n",
    "在选择了架构并设置了超参数后，我们就进入了训练阶段。\n",
    "此时，我们的目标是找到使损失函数最小化的模型参数值。\n",
    "经过训练后，我们将需要使用这些参数来做出未来的预测。\n",
    "此外，有时我们希望提取参数，以便在其他环境中复用它们，\n",
    "将模型保存下来，以便它可以在其他软件中执行，\n",
    "或者为了获得科学的理解而进行检查。\n",
    "\n",
    "之前的介绍中，我们只依靠深度学习框架来完成训练的工作，\n",
    "而忽略了操作参数的具体细节。\n",
    "本节，我们将介绍以下内容：\n",
    "\n",
    "* 访问参数，用于调试、诊断和可视化；\n",
    "* 参数初始化；\n",
    "* 在不同模型组件间共享参数。\n",
    "\n",
    "(**我们首先看一下具有单隐藏层的多层感知机。**)\n"
   ]
  },
  {
   "cell_type": "code",
   "execution_count": 1,
   "id": "078c47f2",
   "metadata": {
    "execution": {
     "iopub.execute_input": "2022-12-07T20:09:53.821979Z",
     "iopub.status.busy": "2022-12-07T20:09:53.821309Z",
     "iopub.status.idle": "2022-12-07T20:09:55.296845Z",
     "shell.execute_reply": "2022-12-07T20:09:55.295967Z"
    },
    "origin_pos": 4,
    "tab": [
     "paddle"
    ]
   },
   "outputs": [
    {
     "data": {
      "text/plain": [
       "Tensor(shape=[2, 1], dtype=float32, place=Place(cpu), stop_gradient=False,\n",
       "       [[0.08741230],\n",
       "        [0.30509907]])"
      ]
     },
     "execution_count": 1,
     "metadata": {},
     "output_type": "execute_result"
    }
   ],
   "source": [
    "import warnings\n",
    "\n",
    "warnings.filterwarnings(action='ignore')\n",
    "import paddle\n",
    "from paddle import nn\n",
    "\n",
    "net = nn.Sequential(nn.Linear(4, 8), nn.ReLU(), nn.Linear(8, 1))\n",
    "X = paddle.rand([2, 4])\n",
    "net(X)"
   ]
  },
  {
   "cell_type": "markdown",
   "id": "dbe934fe",
   "metadata": {
    "origin_pos": 5
   },
   "source": [
    "## [**参数访问**]\n",
    "\n",
    "我们从已有模型中访问参数。\n",
    "当通过`Sequential`类定义模型时，\n",
    "我们可以通过索引来访问模型的任意层。\n",
    "这就像模型是一个列表一样，每层的参数都在其属性中。\n",
    "如下所示，我们可以检查第二个全连接层的参数。\n"
   ]
  },
  {
   "cell_type": "code",
   "execution_count": 2,
   "id": "2128f2f4",
   "metadata": {
    "execution": {
     "iopub.execute_input": "2022-12-07T20:09:55.300834Z",
     "iopub.status.busy": "2022-12-07T20:09:55.300144Z",
     "iopub.status.idle": "2022-12-07T20:09:55.306198Z",
     "shell.execute_reply": "2022-12-07T20:09:55.305428Z"
    },
    "origin_pos": 7,
    "tab": [
     "paddle"
    ]
   },
   "outputs": [
    {
     "name": "stdout",
     "output_type": "stream",
     "text": [
      "OrderedDict([('weight', Parameter containing:\n",
      "Tensor(shape=[8, 1], dtype=float32, place=Place(cpu), stop_gradient=False,\n",
      "       [[-0.25485069],\n",
      "        [-0.04266340],\n",
      "        [-0.79025936],\n",
      "        [-0.75556862],\n",
      "        [-0.26889783],\n",
      "        [ 0.11903048],\n",
      "        [ 0.22622812],\n",
      "        [ 0.58539867]])), ('bias', Parameter containing:\n",
      "Tensor(shape=[1], dtype=float32, place=Place(cpu), stop_gradient=False,\n",
      "       [0.]))])\n"
     ]
    }
   ],
   "source": [
    "print(net[2].state_dict())"
   ]
  },
  {
   "cell_type": "markdown",
   "id": "84d8e03b",
   "metadata": {
    "origin_pos": 9
   },
   "source": [
    "输出的结果告诉我们一些重要的事情：\n",
    "首先，这个全连接层包含两个参数，分别是该层的权重和偏置。\n",
    "两者都存储为单精度浮点数（float32）。\n",
    "注意，参数名称允许唯一标识每个参数，即使在包含数百个层的网络中也是如此。\n",
    "\n",
    "### [**目标参数**]\n",
    "\n",
    "注意，每个参数都表示为参数类的一个实例。\n",
    "要对参数执行任何操作，首先我们需要访问底层的数值。\n",
    "有几种方法可以做到这一点。有些比较简单，而另一些则比较通用。\n",
    "下面的代码从第二个全连接层（即第三个神经网络层）提取偏置，\n",
    "提取后返回的是一个参数类实例，并进一步访问该参数的值。\n"
   ]
  },
  {
   "cell_type": "code",
   "execution_count": 3,
   "id": "ef95644f",
   "metadata": {
    "execution": {
     "iopub.execute_input": "2022-12-07T20:09:55.309435Z",
     "iopub.status.busy": "2022-12-07T20:09:55.308954Z",
     "iopub.status.idle": "2022-12-07T20:09:55.313992Z",
     "shell.execute_reply": "2022-12-07T20:09:55.313221Z"
    },
    "origin_pos": 13,
    "tab": [
     "paddle"
    ]
   },
   "outputs": [
    {
     "name": "stdout",
     "output_type": "stream",
     "text": [
      "<class 'paddle.fluid.framework.ParamBase'>\n",
      "Parameter containing:\n",
      "Tensor(shape=[1], dtype=float32, place=Place(cpu), stop_gradient=False,\n",
      "       [0.])\n",
      "<bound method PyCapsule.value of Parameter containing:\n",
      "Tensor(shape=[1], dtype=float32, place=Place(cpu), stop_gradient=False,\n",
      "       [0.])>\n"
     ]
    }
   ],
   "source": [
    "print(type(net[2].bias))\n",
    "print(net[2].bias)\n",
    "print(net[2].bias.value)"
   ]
  },
  {
   "cell_type": "markdown",
   "id": "f9bba310",
   "metadata": {
    "origin_pos": 14,
    "tab": [
     "paddle"
    ]
   },
   "source": [
    "参数是复合的对象，包含值、梯度和额外信息。\n",
    "这就是我们需要显式参数值的原因。\n",
    "除了值之外，我们还可以访问每个参数的梯度。\n",
    "在上面这个网络中，由于我们还没有调用反向传播，所以参数的梯度处于初始状态。\n"
   ]
  },
  {
   "cell_type": "code",
   "execution_count": 4,
   "id": "a9a24cb7",
   "metadata": {
    "execution": {
     "iopub.execute_input": "2022-12-07T20:09:55.317198Z",
     "iopub.status.busy": "2022-12-07T20:09:55.316675Z",
     "iopub.status.idle": "2022-12-07T20:09:55.321781Z",
     "shell.execute_reply": "2022-12-07T20:09:55.321036Z"
    },
    "origin_pos": 16,
    "tab": [
     "paddle"
    ]
   },
   "outputs": [
    {
     "data": {
      "text/plain": [
       "True"
      ]
     },
     "execution_count": 4,
     "metadata": {},
     "output_type": "execute_result"
    }
   ],
   "source": [
    "net[2].weight.grad == None"
   ]
  },
  {
   "cell_type": "markdown",
   "id": "d4d1c8c4",
   "metadata": {
    "origin_pos": 17
   },
   "source": [
    "### [**一次性访问所有参数**]\n",
    "\n",
    "当我们需要对所有参数执行操作时，逐个访问它们可能会很麻烦。\n",
    "当我们处理更复杂的块（例如，嵌套块）时，情况可能会变得特别复杂，\n",
    "因为我们需要递归整个树来提取每个子块的参数。\n",
    "下面，我们将通过演示来比较访问第一个全连接层的参数和访问所有层。\n"
   ]
  },
  {
   "cell_type": "code",
   "execution_count": 5,
   "id": "0eb3eac4",
   "metadata": {
    "execution": {
     "iopub.execute_input": "2022-12-07T20:09:55.325147Z",
     "iopub.status.busy": "2022-12-07T20:09:55.324609Z",
     "iopub.status.idle": "2022-12-07T20:09:55.329498Z",
     "shell.execute_reply": "2022-12-07T20:09:55.328735Z"
    },
    "origin_pos": 19,
    "tab": [
     "paddle"
    ]
   },
   "outputs": [
    {
     "name": "stdout",
     "output_type": "stream",
     "text": [
      "('weight', [4, 8]) ('bias', [8])\n",
      "('0.weight', [4, 8]) ('0.bias', [8]) ('2.weight', [8, 1]) ('2.bias', [1])\n"
     ]
    }
   ],
   "source": [
    "print(*[(name, param.shape) for name, param in net[0].named_parameters()])\n",
    "print(*[(name, param.shape) for name, param in net.named_parameters()])"
   ]
  },
  {
   "cell_type": "markdown",
   "id": "1dfc6de3",
   "metadata": {
    "origin_pos": 21
   },
   "source": [
    "这为我们提供了另一种访问网络参数的方式，如下所示。\n"
   ]
  },
  {
   "cell_type": "code",
   "execution_count": 6,
   "id": "103c7ab3",
   "metadata": {
    "execution": {
     "iopub.execute_input": "2022-12-07T20:09:55.332849Z",
     "iopub.status.busy": "2022-12-07T20:09:55.332333Z",
     "iopub.status.idle": "2022-12-07T20:09:55.337589Z",
     "shell.execute_reply": "2022-12-07T20:09:55.336842Z"
    },
    "origin_pos": 25,
    "tab": [
     "paddle"
    ]
   },
   "outputs": [
    {
     "data": {
      "text/plain": [
       "Parameter containing:\n",
       "Tensor(shape=[1], dtype=float32, place=Place(cpu), stop_gradient=False,\n",
       "       [0.])"
      ]
     },
     "execution_count": 6,
     "metadata": {},
     "output_type": "execute_result"
    }
   ],
   "source": [
    "net.state_dict()['2.bias']"
   ]
  },
  {
   "cell_type": "markdown",
   "id": "9aa3c2de",
   "metadata": {
    "origin_pos": 26
   },
   "source": [
    "### [**从嵌套块收集参数**]\n",
    "\n",
    "让我们看看，如果我们将多个块相互嵌套，参数命名约定是如何工作的。\n",
    "我们首先定义一个生成块的函数（可以说是“块工厂”），然后将这些块组合到更大的块中。\n"
   ]
  },
  {
   "cell_type": "code",
   "execution_count": 7,
   "id": "df02f8ac",
   "metadata": {
    "execution": {
     "iopub.execute_input": "2022-12-07T20:09:55.341084Z",
     "iopub.status.busy": "2022-12-07T20:09:55.340450Z",
     "iopub.status.idle": "2022-12-07T20:09:55.355640Z",
     "shell.execute_reply": "2022-12-07T20:09:55.354885Z"
    },
    "origin_pos": 30,
    "tab": [
     "paddle"
    ]
   },
   "outputs": [
    {
     "data": {
      "text/plain": [
       "Tensor(shape=[2, 1], dtype=float32, place=Place(cpu), stop_gradient=False,\n",
       "       [[-0.00040114],\n",
       "        [-0.00059529]])"
      ]
     },
     "execution_count": 7,
     "metadata": {},
     "output_type": "execute_result"
    }
   ],
   "source": [
    "def block1():\n",
    "    return nn.Sequential(nn.Linear(4, 8), nn.ReLU(),\n",
    "                         nn.Linear(8, 4), nn.ReLU())\n",
    "\n",
    "def block2():\n",
    "    net = nn.Sequential()\n",
    "    for i in range(4):\n",
    "        # 在这里嵌套\n",
    "        net.add_sublayer(f'block {i}', block1())\n",
    "    return net\n",
    "\n",
    "rgnet = nn.Sequential(block2(), nn.Linear(4, 1))\n",
    "rgnet(X)"
   ]
  },
  {
   "cell_type": "markdown",
   "id": "b1b3803f",
   "metadata": {
    "origin_pos": 31
   },
   "source": [
    "[**设计了网络后，我们看看它是如何工作的。**]\n"
   ]
  },
  {
   "cell_type": "code",
   "execution_count": 8,
   "id": "3cdb30ad",
   "metadata": {
    "execution": {
     "iopub.execute_input": "2022-12-07T20:09:55.358857Z",
     "iopub.status.busy": "2022-12-07T20:09:55.358343Z",
     "iopub.status.idle": "2022-12-07T20:09:55.362530Z",
     "shell.execute_reply": "2022-12-07T20:09:55.361758Z"
    },
    "origin_pos": 33,
    "tab": [
     "paddle"
    ]
   },
   "outputs": [
    {
     "name": "stdout",
     "output_type": "stream",
     "text": [
      "Sequential(\n",
      "  (0): Sequential(\n",
      "    (block 0): Sequential(\n",
      "      (0): Linear(in_features=4, out_features=8, dtype=float32)\n",
      "      (1): ReLU()\n",
      "      (2): Linear(in_features=8, out_features=4, dtype=float32)\n",
      "      (3): ReLU()\n",
      "    )\n",
      "    (block 1): Sequential(\n",
      "      (0): Linear(in_features=4, out_features=8, dtype=float32)\n",
      "      (1): ReLU()\n",
      "      (2): Linear(in_features=8, out_features=4, dtype=float32)\n",
      "      (3): ReLU()\n",
      "    )\n",
      "    (block 2): Sequential(\n",
      "      (0): Linear(in_features=4, out_features=8, dtype=float32)\n",
      "      (1): ReLU()\n",
      "      (2): Linear(in_features=8, out_features=4, dtype=float32)\n",
      "      (3): ReLU()\n",
      "    )\n",
      "    (block 3): Sequential(\n",
      "      (0): Linear(in_features=4, out_features=8, dtype=float32)\n",
      "      (1): ReLU()\n",
      "      (2): Linear(in_features=8, out_features=4, dtype=float32)\n",
      "      (3): ReLU()\n",
      "    )\n",
      "  )\n",
      "  (1): Linear(in_features=4, out_features=1, dtype=float32)\n",
      ")\n"
     ]
    }
   ],
   "source": [
    "print(rgnet)"
   ]
  },
  {
   "cell_type": "markdown",
   "id": "3e8e5e22",
   "metadata": {
    "origin_pos": 35
   },
   "source": [
    "因为层是分层嵌套的，所以我们也可以像通过嵌套列表索引一样访问它们。\n",
    "下面，我们访问第一个主要的块中、第二个子块的第一层的偏置项。\n"
   ]
  },
  {
   "cell_type": "code",
   "execution_count": 9,
   "id": "dde0063b",
   "metadata": {
    "execution": {
     "iopub.execute_input": "2022-12-07T20:09:55.365933Z",
     "iopub.status.busy": "2022-12-07T20:09:55.365334Z",
     "iopub.status.idle": "2022-12-07T20:09:55.370021Z",
     "shell.execute_reply": "2022-12-07T20:09:55.369249Z"
    },
    "origin_pos": 39,
    "tab": [
     "paddle"
    ]
   },
   "outputs": [
    {
     "name": "stdout",
     "output_type": "stream",
     "text": [
      "Parameter containing:\n",
      "Tensor(shape=[8], dtype=float32, place=Place(cpu), stop_gradient=False,\n",
      "       [0., 0., 0., 0., 0., 0., 0., 0.])\n"
     ]
    }
   ],
   "source": [
    "print(rgnet[0].state_dict()['block 0.0.bias'])"
   ]
  },
  {
   "cell_type": "markdown",
   "id": "d2cee12c",
   "metadata": {
    "origin_pos": 40
   },
   "source": [
    "## 参数初始化\n",
    "\n",
    "知道了如何访问参数后，现在我们看看如何正确地初始化参数。\n",
    "我们在 :numref:`sec_numerical_stability`中讨论了良好初始化的必要性。\n",
    "深度学习框架提供默认随机初始化，\n",
    "也允许我们创建自定义初始化方法，\n",
    "满足我们通过其他规则实现初始化权重。\n"
   ]
  },
  {
   "cell_type": "markdown",
   "id": "74a8f248",
   "metadata": {
    "origin_pos": 44,
    "tab": [
     "paddle"
    ]
   },
   "source": [
    "默认情况下，PaddlePaddle会使用Xavier初始化权重矩阵，\n",
    "偏置参数设置为0。\n",
    "PaddlePaddle的`nn.initializer`模块提供了多种预置初始化方法。\n"
   ]
  },
  {
   "cell_type": "markdown",
   "id": "084dc8c5",
   "metadata": {
    "origin_pos": 45
   },
   "source": [
    "### [**内置初始化**]\n",
    "\n",
    "让我们首先调用内置的初始化器。\n",
    "下面的代码将所有权重参数初始化为标准差为0.01的高斯随机变量，\n",
    "且将偏置参数设置为0。\n"
   ]
  },
  {
   "cell_type": "code",
   "execution_count": 10,
   "id": "4a6d9de7",
   "metadata": {
    "execution": {
     "iopub.execute_input": "2022-12-07T20:09:55.373556Z",
     "iopub.status.busy": "2022-12-07T20:09:55.372936Z",
     "iopub.status.idle": "2022-12-07T20:09:55.380218Z",
     "shell.execute_reply": "2022-12-07T20:09:55.379471Z"
    },
    "origin_pos": 49,
    "tab": [
     "paddle"
    ]
   },
   "outputs": [
    {
     "data": {
      "text/plain": [
       "(Tensor(shape=[8], dtype=float32, place=Place(cpu), stop_gradient=False,\n",
       "        [-0.37556022, -0.56956506,  0.51928586, -0.62428892, -0.07560658,\n",
       "         -0.19561028,  0.45752531, -0.30620268]),\n",
       " Parameter containing:\n",
       " Tensor(shape=[8], dtype=float32, place=Place(cpu), stop_gradient=False,\n",
       "        [0., 0., 0., 0., 0., 0., 0., 0.]))"
      ]
     },
     "execution_count": 10,
     "metadata": {},
     "output_type": "execute_result"
    }
   ],
   "source": [
    "def init_normal(m):\n",
    "    if type(m) == nn.Linear:\n",
    "        paddle.nn.initializer.Normal(mean=0.0, std=0.01)\n",
    "        paddle.zeros(m.bias)\n",
    "net.apply(init_normal)\n",
    "net[0].weight[0],net[0].state_dict()['bias']"
   ]
  },
  {
   "cell_type": "markdown",
   "id": "8b88c9d1",
   "metadata": {
    "origin_pos": 50
   },
   "source": [
    "我们还可以将所有参数初始化为给定的常数，比如初始化为1。\n"
   ]
  },
  {
   "cell_type": "code",
   "execution_count": 11,
   "id": "a0228744",
   "metadata": {
    "execution": {
     "iopub.execute_input": "2022-12-07T20:09:55.383641Z",
     "iopub.status.busy": "2022-12-07T20:09:55.382964Z",
     "iopub.status.idle": "2022-12-07T20:09:55.390128Z",
     "shell.execute_reply": "2022-12-07T20:09:55.389361Z"
    },
    "origin_pos": 54,
    "tab": [
     "paddle"
    ]
   },
   "outputs": [
    {
     "data": {
      "text/plain": [
       "(Tensor(shape=[8], dtype=float32, place=Place(cpu), stop_gradient=False,\n",
       "        [-0.37556022, -0.56956506,  0.51928586, -0.62428892, -0.07560658,\n",
       "         -0.19561028,  0.45752531, -0.30620268]),\n",
       " Parameter containing:\n",
       " Tensor(shape=[8], dtype=float32, place=Place(cpu), stop_gradient=False,\n",
       "        [0., 0., 0., 0., 0., 0., 0., 0.]))"
      ]
     },
     "execution_count": 11,
     "metadata": {},
     "output_type": "execute_result"
    }
   ],
   "source": [
    "def init_constant(m):\n",
    "    if type(m) == nn.Linear:\n",
    "        paddle.nn.initializer.Constant(value = 1)\n",
    "        paddle.zeros(m.bias)\n",
    "net.apply(init_constant)\n",
    "net[0].weight[0],net[0].state_dict()['bias']"
   ]
  },
  {
   "cell_type": "markdown",
   "id": "a43495c1",
   "metadata": {
    "origin_pos": 55
   },
   "source": [
    "我们还可以[**对某些块应用不同的初始化方法**]。\n",
    "例如，下面我们使用Xavier初始化方法初始化第一个神经网络层，\n",
    "然后将第三个神经网络层初始化为常量值42。\n"
   ]
  },
  {
   "cell_type": "code",
   "execution_count": 12,
   "id": "c60d4de0",
   "metadata": {
    "execution": {
     "iopub.execute_input": "2022-12-07T20:09:55.393496Z",
     "iopub.status.busy": "2022-12-07T20:09:55.392865Z",
     "iopub.status.idle": "2022-12-07T20:09:55.399317Z",
     "shell.execute_reply": "2022-12-07T20:09:55.398510Z"
    },
    "origin_pos": 59,
    "tab": [
     "paddle"
    ]
   },
   "outputs": [
    {
     "name": "stdout",
     "output_type": "stream",
     "text": [
      "Tensor(shape=[8], dtype=float32, place=Place(cpu), stop_gradient=False,\n",
      "       [-0.37556022, -0.56956506,  0.51928586, -0.62428892, -0.07560658,\n",
      "        -0.19561028,  0.45752531, -0.30620268])\n",
      "Parameter containing:\n",
      "Tensor(shape=[8, 1], dtype=float32, place=Place(cpu), stop_gradient=False,\n",
      "       [[-0.25485069],\n",
      "        [-0.04266340],\n",
      "        [-0.79025936],\n",
      "        [-0.75556862],\n",
      "        [-0.26889783],\n",
      "        [ 0.11903048],\n",
      "        [ 0.22622812],\n",
      "        [ 0.58539867]])\n"
     ]
    }
   ],
   "source": [
    "def xavier(m):\n",
    "    if type(m) == nn.Linear:\n",
    "        paddle.nn.initializer.XavierUniform(m.weight)\n",
    "def init_42(m):\n",
    "    if type(m) == nn.Linear:\n",
    "        paddle.nn.initializer.Constant(42)\n",
    "\n",
    "net[0].apply(xavier)\n",
    "net[2].apply(init_42)\n",
    "print(net[0].weight[0])\n",
    "print(net[2].weight)"
   ]
  },
  {
   "cell_type": "markdown",
   "id": "060f5d6f",
   "metadata": {
    "origin_pos": 60
   },
   "source": [
    "### [**自定义初始化**]\n",
    "\n",
    "有时，深度学习框架没有提供我们需要的初始化方法。\n",
    "在下面的例子中，我们使用以下的分布为任意权重参数$w$定义初始化方法：\n",
    "\n",
    "$$\n",
    "\\begin{aligned}\n",
    "    w \\sim \\begin{cases}\n",
    "        U(5, 10) & \\text{ 可能性 } \\frac{1}{4} \\\\\n",
    "            0    & \\text{ 可能性 } \\frac{1}{2} \\\\\n",
    "        U(-10, -5) & \\text{ 可能性 } \\frac{1}{4}\n",
    "    \\end{cases}\n",
    "\\end{aligned}\n",
    "$$\n"
   ]
  },
  {
   "cell_type": "markdown",
   "id": "c710a176",
   "metadata": {
    "origin_pos": 64,
    "tab": [
     "paddle"
    ]
   },
   "source": [
    "同样，我们实现了一个`my_init`函数来应用到`net`。\n"
   ]
  },
  {
   "cell_type": "code",
   "execution_count": 13,
   "id": "a5b57e1d",
   "metadata": {
    "execution": {
     "iopub.execute_input": "2022-12-07T20:09:55.402803Z",
     "iopub.status.busy": "2022-12-07T20:09:55.402126Z",
     "iopub.status.idle": "2022-12-07T20:09:55.411960Z",
     "shell.execute_reply": "2022-12-07T20:09:55.411198Z"
    },
    "origin_pos": 68,
    "tab": [
     "paddle"
    ]
   },
   "outputs": [
    {
     "name": "stdout",
     "output_type": "stream",
     "text": [
      "Init weight [4, 8]\n",
      "Init weight [8, 1]\n"
     ]
    },
    {
     "data": {
      "text/plain": [
       "Tensor(shape=[2, 8], dtype=float32, place=Place(cpu), stop_gradient=False,\n",
       "       [[-0.37556022, -0.56956506,  0.51928586, -0.62428892, -0.07560658,\n",
       "         -0.19561028,  0.45752531, -0.30620268],\n",
       "        [ 0.03955257,  0.05066150, -0.38958645,  0.57687515,  0.21143413,\n",
       "         -0.51807344, -0.01132214, -0.65783387]])"
      ]
     },
     "execution_count": 13,
     "metadata": {},
     "output_type": "execute_result"
    }
   ],
   "source": [
    "def my_init(m):\n",
    "    if type(m) == nn.Linear:\n",
    "        print(\"Init\", *[(name, param.shape)\n",
    "                        for name, param in m.named_parameters()][0])\n",
    "        paddle.nn.initializer.XavierUniform(m.weight, -10, 10)\n",
    "        h = paddle.abs(m.weight) >= 5\n",
    "        h = paddle.to_tensor(h)\n",
    "        m = paddle.to_tensor(m.weight)\n",
    "        m *= h\n",
    "\n",
    "net.apply(my_init)\n",
    "net[0].weight[:2]"
   ]
  },
  {
   "cell_type": "markdown",
   "id": "7a8b1398",
   "metadata": {
    "origin_pos": 69
   },
   "source": [
    "注意，我们始终可以直接设置参数。\n"
   ]
  },
  {
   "cell_type": "code",
   "execution_count": 14,
   "id": "e9c4fe3f",
   "metadata": {
    "execution": {
     "iopub.execute_input": "2022-12-07T20:09:55.415388Z",
     "iopub.status.busy": "2022-12-07T20:09:55.414758Z",
     "iopub.status.idle": "2022-12-07T20:09:55.421406Z",
     "shell.execute_reply": "2022-12-07T20:09:55.420652Z"
    },
    "origin_pos": 73,
    "tab": [
     "paddle"
    ]
   },
   "outputs": [
    {
     "data": {
      "text/plain": [
       "Tensor(shape=[8], dtype=float32, place=Place(cpu), stop_gradient=False,\n",
       "       [42.       , 0.43043494, 1.51928592, 0.37571108, 0.92439342, 0.80438972,\n",
       "        1.45752525, 0.69379735])"
      ]
     },
     "execution_count": 14,
     "metadata": {},
     "output_type": "execute_result"
    }
   ],
   "source": [
    "net[0].weight.set_value(net[0].weight.numpy() + 1)\n",
    "val = net[0].weight.numpy()\n",
    "val[0, 0] = 42\n",
    "net[0].weight.set_value(val)\n",
    "net[0].weight[0]"
   ]
  },
  {
   "cell_type": "markdown",
   "id": "22f64f4a",
   "metadata": {
    "origin_pos": 75
   },
   "source": [
    "## [**参数绑定**]\n",
    "\n",
    "有时我们希望在多个层间共享参数：\n",
    "我们可以定义一个稠密层，然后使用它的参数来设置另一个层的参数。\n"
   ]
  },
  {
   "cell_type": "code",
   "execution_count": 15,
   "id": "70a7d54e",
   "metadata": {
    "execution": {
     "iopub.execute_input": "2022-12-07T20:09:55.424719Z",
     "iopub.status.busy": "2022-12-07T20:09:55.424205Z",
     "iopub.status.idle": "2022-12-07T20:09:55.432787Z",
     "shell.execute_reply": "2022-12-07T20:09:55.432021Z"
    },
    "origin_pos": 79,
    "tab": [
     "paddle"
    ]
   },
   "outputs": [
    {
     "name": "stdout",
     "output_type": "stream",
     "text": [
      "Tensor(shape=[8], dtype=bool, place=Place(cpu), stop_gradient=False,\n",
      "       [True, True, True, True, True, True, True, True])\n"
     ]
    }
   ],
   "source": [
    "# 我们需要给共享层一个名称，以便可以引用它的参数。\n",
    "shared = nn.Linear(8, 8)\n",
    "net = nn.Sequential(nn.Linear(4, 8), nn.ReLU(),\n",
    "                    shared, nn.ReLU(),\n",
    "                    shared, nn.ReLU(),\n",
    "                    nn.Linear(8, 1))\n",
    "net(X)\n",
    "# 检查参数是否相同\n",
    "print(net[2].weight[0] == net[4].weight[0])"
   ]
  },
  {
   "cell_type": "markdown",
   "id": "e5870e85",
   "metadata": {
    "origin_pos": 82
   },
   "source": [
    "## 小结\n",
    "\n",
    "* 我们有几种方法可以访问、初始化和绑定模型参数。\n",
    "* 我们可以使用自定义初始化方法。\n",
    "\n",
    "## 练习\n",
    "\n",
    "1. 使用 :numref:`sec_model_construction` 中定义的`FancyMLP`模型，访问各个层的参数。\n",
    "1. 查看初始化模块文档以了解不同的初始化方法。\n",
    "1. 构建包含共享参数层的多层感知机并对其进行训练。在训练过程中，观察模型各层的参数和梯度。\n",
    "1. 为什么共享参数是个好主意？\n"
   ]
  },
  {
   "cell_type": "markdown",
   "id": "2c546ea2",
   "metadata": {
    "origin_pos": 86,
    "tab": [
     "paddle"
    ]
   },
   "source": [
    "[Discussions](https://discuss.d2l.ai/t/11778)\n"
   ]
  }
 ],
 "metadata": {
  "language_info": {
   "name": "python"
  }
 },
 "nbformat": 4,
 "nbformat_minor": 5
}