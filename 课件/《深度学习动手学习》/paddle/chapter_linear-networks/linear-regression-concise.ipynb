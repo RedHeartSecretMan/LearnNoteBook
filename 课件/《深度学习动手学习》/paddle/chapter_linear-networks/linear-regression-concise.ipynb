{
 "cells": [
  {
   "cell_type": "markdown",
   "id": "9a753d15",
   "metadata": {
    "origin_pos": 0
   },
   "source": [
    "# 线性回归的简洁实现\n",
    ":label:`sec_linear_concise`\n",
    "\n",
    "在过去的几年里，出于对深度学习强烈的兴趣，\n",
    "许多公司、学者和业余爱好者开发了各种成熟的开源框架。\n",
    "这些框架可以自动化基于梯度的学习算法中重复性的工作。\n",
    "在 :numref:`sec_linear_scratch`中，我们只运用了：\n",
    "（1）通过张量来进行数据存储和线性代数；\n",
    "（2）通过自动微分来计算梯度。\n",
    "实际上，由于数据迭代器、损失函数、优化器和神经网络层很常用，\n",
    "现代深度学习库也为我们实现了这些组件。\n",
    "\n",
    "本节将介绍如何(**通过使用深度学习框架来简洁地实现**)\n",
    " :numref:`sec_linear_scratch`中的(**线性回归模型**)。\n",
    "\n",
    "## 生成数据集\n",
    "\n",
    "与 :numref:`sec_linear_scratch`中类似，我们首先[**生成数据集**]。\n"
   ]
  },
  {
   "cell_type": "code",
   "execution_count": 1,
   "id": "b8b9e37b",
   "metadata": {
    "execution": {
     "iopub.execute_input": "2022-12-07T20:14:36.007693Z",
     "iopub.status.busy": "2022-12-07T20:14:36.007056Z",
     "iopub.status.idle": "2022-12-07T20:14:38.238314Z",
     "shell.execute_reply": "2022-12-07T20:14:38.236479Z"
    },
    "origin_pos": 4,
    "tab": [
     "paddle"
    ]
   },
   "outputs": [],
   "source": [
    "import warnings\n",
    "from d2l import paddle as d2l\n",
    "\n",
    "warnings.filterwarnings(\"ignore\")\n",
    "import numpy as np\n",
    "import paddle"
   ]
  },
  {
   "cell_type": "code",
   "execution_count": 2,
   "id": "28880c23",
   "metadata": {
    "execution": {
     "iopub.execute_input": "2022-12-07T20:14:38.247553Z",
     "iopub.status.busy": "2022-12-07T20:14:38.246107Z",
     "iopub.status.idle": "2022-12-07T20:14:38.301926Z",
     "shell.execute_reply": "2022-12-07T20:14:38.300740Z"
    },
    "origin_pos": 5,
    "tab": [
     "paddle"
    ]
   },
   "outputs": [],
   "source": [
    "true_w = paddle.to_tensor([2, -3.4])\n",
    "true_b = 4.2\n",
    "features, labels = d2l.synthetic_data(true_w, true_b, 1000)"
   ]
  },
  {
   "cell_type": "markdown",
   "id": "6cc23b0f",
   "metadata": {
    "origin_pos": 6
   },
   "source": [
    "## 读取数据集\n",
    "\n",
    "我们可以[**调用框架中现有的API来读取数据**]。\n",
    "我们将`features`和`labels`作为API的参数传递，并通过数据迭代器指定`batch_size`。\n",
    "此外，布尔值`is_train`表示是否希望数据迭代器对象在每个迭代周期内打乱数据。\n"
   ]
  },
  {
   "cell_type": "code",
   "execution_count": 3,
   "id": "5e744344",
   "metadata": {
    "execution": {
     "iopub.execute_input": "2022-12-07T20:14:38.308483Z",
     "iopub.status.busy": "2022-12-07T20:14:38.307526Z",
     "iopub.status.idle": "2022-12-07T20:14:38.315565Z",
     "shell.execute_reply": "2022-12-07T20:14:38.314428Z"
    },
    "origin_pos": 10,
    "tab": [
     "paddle"
    ]
   },
   "outputs": [],
   "source": [
    "#@save\n",
    "def load_array(data_arrays, batch_size, is_train=True):\n",
    "    \"\"\"构造一个Paddle数据迭代器\"\"\"\n",
    "    dataset = paddle.io.TensorDataset(data_arrays)\n",
    "    return paddle.io.DataLoader(dataset, batch_size=batch_size,\n",
    "                                shuffle=is_train,\n",
    "                                return_list=True)"
   ]
  },
  {
   "cell_type": "code",
   "execution_count": 4,
   "id": "3eda6637",
   "metadata": {
    "execution": {
     "iopub.execute_input": "2022-12-07T20:14:38.321702Z",
     "iopub.status.busy": "2022-12-07T20:14:38.320919Z",
     "iopub.status.idle": "2022-12-07T20:14:38.327016Z",
     "shell.execute_reply": "2022-12-07T20:14:38.325524Z"
    },
    "origin_pos": 11,
    "tab": [
     "paddle"
    ]
   },
   "outputs": [],
   "source": [
    "batch_size = 10\n",
    "data_iter = load_array((features, labels), batch_size)"
   ]
  },
  {
   "cell_type": "markdown",
   "id": "e2d340e8",
   "metadata": {
    "origin_pos": 12
   },
   "source": [
    "使用`data_iter`的方式与我们在 :numref:`sec_linear_scratch`中使用`data_iter`函数的方式相同。为了验证是否正常工作，让我们读取并打印第一个小批量样本。\n",
    "与 :numref:`sec_linear_scratch`不同，这里我们使用`iter`构造Python迭代器，并使用`next`从迭代器中获取第一项。\n"
   ]
  },
  {
   "cell_type": "code",
   "execution_count": 5,
   "id": "2618a552",
   "metadata": {
    "execution": {
     "iopub.execute_input": "2022-12-07T20:14:38.330336Z",
     "iopub.status.busy": "2022-12-07T20:14:38.329900Z",
     "iopub.status.idle": "2022-12-07T20:14:38.342606Z",
     "shell.execute_reply": "2022-12-07T20:14:38.341364Z"
    },
    "origin_pos": 13,
    "tab": [
     "paddle"
    ]
   },
   "outputs": [
    {
     "data": {
      "text/plain": [
       "[Tensor(shape=[10, 2], dtype=float32, place=Place(cpu), stop_gradient=True,\n",
       "        [[ 0.84175062, -1.96725774],\n",
       "         [ 1.84425831, -0.62002105],\n",
       "         [-0.89270484,  0.67426932],\n",
       "         [-0.48136851,  0.65387797],\n",
       "         [ 1.08793175, -0.27920926],\n",
       "         [ 0.47856823,  0.32718363],\n",
       "         [-0.07769605, -1.04362118],\n",
       "         [-0.02773173, -1.59267771],\n",
       "         [-0.46669021, -1.37477207],\n",
       "         [-0.22772226, -0.18669412]]),\n",
       " Tensor(shape=[10, 1], dtype=float32, place=Place(cpu), stop_gradient=True,\n",
       "        [[12.56331539],\n",
       "         [10.00750065],\n",
       "         [0.12501453 ],\n",
       "         [1.01070130 ],\n",
       "         [7.31850910 ],\n",
       "         [4.03527927 ],\n",
       "         [7.58113289 ],\n",
       "         [9.53943253 ],\n",
       "         [7.93346453 ],\n",
       "         [4.37228441 ]])]"
      ]
     },
     "execution_count": 5,
     "metadata": {},
     "output_type": "execute_result"
    }
   ],
   "source": [
    "next(iter(data_iter))"
   ]
  },
  {
   "cell_type": "markdown",
   "id": "2b712c3a",
   "metadata": {
    "origin_pos": 14
   },
   "source": [
    "## 定义模型\n",
    "\n",
    "当我们在 :numref:`sec_linear_scratch`中实现线性回归时，\n",
    "我们明确定义了模型参数变量，并编写了计算的代码，这样通过基本的线性代数运算得到输出。\n",
    "但是，如果模型变得更加复杂，且当我们几乎每天都需要实现模型时，自然会想简化这个过程。\n",
    "这种情况类似于为自己的博客从零开始编写网页。\n",
    "做一两次是有益的，但如果每个新博客就需要工程师花一个月的时间重新开始编写网页，那并不高效。\n",
    "\n",
    "对于标准深度学习模型，我们可以[**使用框架的预定义好的层**]。这使我们只需关注使用哪些层来构造模型，而不必关注层的实现细节。\n",
    "我们首先定义一个模型变量`net`，它是一个`Sequential`类的实例。\n",
    "`Sequential`类将多个层串联在一起。\n",
    "当给定输入数据时，`Sequential`实例将数据传入到第一层，\n",
    "然后将第一层的输出作为第二层的输入，以此类推。\n",
    "在下面的例子中，我们的模型只包含一个层，因此实际上不需要`Sequential`。\n",
    "但是由于以后几乎所有的模型都是多层的，在这里使用`Sequential`会让你熟悉“标准的流水线”。\n",
    "\n",
    "回顾 :numref:`fig_single_neuron`中的单层网络架构，\n",
    "这一单层被称为*全连接层*（fully-connected layer），\n",
    "因为它的每一个输入都通过矩阵-向量乘法得到它的每个输出。\n"
   ]
  },
  {
   "cell_type": "markdown",
   "id": "976e0c90",
   "metadata": {
    "origin_pos": 18,
    "tab": [
     "paddle"
    ]
   },
   "source": [
    "在PaddlePaddle中，全连接层在`Linear`类中定义。\n",
    "值得注意的是，我们将两个参数传递到`nn.Linear`中。\n",
    "第一个指定输入特征形状，即2，第二个指定输出特征形状，输出特征形状为单个标量，因此为1。\n"
   ]
  },
  {
   "cell_type": "code",
   "execution_count": 6,
   "id": "c7bb6589",
   "metadata": {
    "execution": {
     "iopub.execute_input": "2022-12-07T20:14:38.346042Z",
     "iopub.status.busy": "2022-12-07T20:14:38.345512Z",
     "iopub.status.idle": "2022-12-07T20:14:38.351367Z",
     "shell.execute_reply": "2022-12-07T20:14:38.350243Z"
    },
    "origin_pos": 22,
    "tab": [
     "paddle"
    ]
   },
   "outputs": [],
   "source": [
    "# nn是神经网络的缩写\n",
    "from paddle import nn\n",
    "\n",
    "net = nn.Sequential(nn.Linear(2, 1))"
   ]
  },
  {
   "cell_type": "markdown",
   "id": "2def5e50",
   "metadata": {
    "origin_pos": 23
   },
   "source": [
    "## (**初始化模型参数**)\n",
    "\n",
    "在使用`net`之前，我们需要初始化模型参数。\n",
    "如在线性回归模型中的权重和偏置。\n",
    "深度学习框架通常有预定义的方法来初始化参数。\n",
    "在这里，我们指定每个权重参数应该从均值为0、标准差为0.01的正态分布中随机采样，\n",
    "偏置参数将初始化为零。\n"
   ]
  },
  {
   "cell_type": "markdown",
   "id": "0d1e3435",
   "metadata": {
    "origin_pos": 27,
    "tab": [
     "paddle"
    ]
   },
   "source": [
    "正如我们在构造`nn.Linear`时指定输入和输出尺寸一样，\n",
    "现在我们能直接访问参数以设定它们的初始值。 \n",
    "我们通过`net[0]`选择网络中的第一个图层，\n",
    "然后使用`weight`和`bias`方法访问参数。\n",
    "我们可以通过调用`nn.initializer.Normal(0, 0.01)`来指定初始化权重的方法。\n",
    "默认情况下，偏置参数初始化为零。\n"
   ]
  },
  {
   "cell_type": "code",
   "execution_count": 7,
   "id": "66f590a8",
   "metadata": {
    "execution": {
     "iopub.execute_input": "2022-12-07T20:14:38.354603Z",
     "iopub.status.busy": "2022-12-07T20:14:38.354096Z",
     "iopub.status.idle": "2022-12-07T20:14:38.359219Z",
     "shell.execute_reply": "2022-12-07T20:14:38.358465Z"
    },
    "origin_pos": 31,
    "tab": [
     "paddle"
    ]
   },
   "outputs": [],
   "source": [
    "weight_attr = paddle.ParamAttr(initializer=\n",
    "                               paddle.nn.initializer.Normal(0, 0.01))\n",
    "bias_attr = paddle.ParamAttr(initializer=None)\n",
    "net = nn.Sequential(nn.Linear(2, 1, weight_attr=weight_attr,\n",
    "                              bias_attr=bias_attr))"
   ]
  },
  {
   "cell_type": "markdown",
   "id": "6dfd94c0",
   "metadata": {
    "origin_pos": 35
   },
   "source": [
    "## 定义损失函数\n"
   ]
  },
  {
   "cell_type": "markdown",
   "id": "b7cb8155",
   "metadata": {
    "origin_pos": 39,
    "tab": [
     "paddle"
    ]
   },
   "source": [
    "[**计算均方误差使用的是`MSELoss`类，也称为平方$L_2$范数**]。\n",
    "默认情况下，它返回所有样本损失的平均值。\n"
   ]
  },
  {
   "cell_type": "code",
   "execution_count": 8,
   "id": "e9ddd6be",
   "metadata": {
    "execution": {
     "iopub.execute_input": "2022-12-07T20:14:38.362571Z",
     "iopub.status.busy": "2022-12-07T20:14:38.361954Z",
     "iopub.status.idle": "2022-12-07T20:14:38.365657Z",
     "shell.execute_reply": "2022-12-07T20:14:38.364926Z"
    },
    "origin_pos": 43,
    "tab": [
     "paddle"
    ]
   },
   "outputs": [],
   "source": [
    "loss = nn.MSELoss()"
   ]
  },
  {
   "cell_type": "markdown",
   "id": "0c4b189e",
   "metadata": {
    "origin_pos": 44
   },
   "source": [
    "## 定义优化算法\n"
   ]
  },
  {
   "cell_type": "markdown",
   "id": "d22fc534",
   "metadata": {
    "origin_pos": 48,
    "tab": [
     "paddle"
    ]
   },
   "source": [
    "小批量随机梯度下降算法是一种优化神经网络的标准工具，\n",
    "PaddlePaddle在`optimizer`模块中实现了该算法的许多变种。\n",
    "小批量随机梯度下降只需要设置`learning_rate`值，这里设置为0.03。\n"
   ]
  },
  {
   "cell_type": "code",
   "execution_count": 9,
   "id": "a430afe5",
   "metadata": {
    "execution": {
     "iopub.execute_input": "2022-12-07T20:14:38.368928Z",
     "iopub.status.busy": "2022-12-07T20:14:38.368321Z",
     "iopub.status.idle": "2022-12-07T20:14:38.372218Z",
     "shell.execute_reply": "2022-12-07T20:14:38.371464Z"
    },
    "origin_pos": 52,
    "tab": [
     "paddle"
    ]
   },
   "outputs": [],
   "source": [
    "trainer =  paddle.optimizer.SGD(learning_rate=0.03,\n",
    "                                parameters=net.parameters())"
   ]
  },
  {
   "cell_type": "markdown",
   "id": "85db819f",
   "metadata": {
    "origin_pos": 53
   },
   "source": [
    "## 训练\n",
    "\n",
    "通过深度学习框架的高级API来实现我们的模型只需要相对较少的代码。\n",
    "我们不必单独分配参数、不必定义我们的损失函数，也不必手动实现小批量随机梯度下降。\n",
    "当我们需要更复杂的模型时，高级API的优势将大大增加。\n",
    "当我们有了所有的基本组件，[**训练过程代码与我们从零开始实现时所做的非常相似**]。\n",
    "\n",
    "回顾一下：在每个迭代周期里，我们将完整遍历一次数据集（`train_data`），\n",
    "不停地从中获取一个小批量的输入和相应的标签。\n",
    "对于每一个小批量，我们会进行以下步骤:\n",
    "\n",
    "* 通过调用`net(X)`生成预测并计算损失`l`（前向传播）。\n",
    "* 通过进行反向传播来计算梯度。\n",
    "* 通过调用优化器来更新模型参数。\n",
    "\n",
    "为了更好的衡量训练效果，我们计算每个迭代周期后的损失，并打印它来监控训练过程。\n"
   ]
  },
  {
   "cell_type": "code",
   "execution_count": 10,
   "id": "99adbbed",
   "metadata": {
    "execution": {
     "iopub.execute_input": "2022-12-07T20:14:38.375380Z",
     "iopub.status.busy": "2022-12-07T20:14:38.374863Z",
     "iopub.status.idle": "2022-12-07T20:14:38.794132Z",
     "shell.execute_reply": "2022-12-07T20:14:38.793309Z"
    },
    "origin_pos": 57,
    "tab": [
     "paddle"
    ]
   },
   "outputs": [
    {
     "name": "stdout",
     "output_type": "stream",
     "text": [
      "epoch 1,loss Tensor(shape=[1], dtype=float32, place=Place(cpu), stop_gradient=False,\n",
      "       [0.00019986])\n",
      "epoch 2,loss Tensor(shape=[1], dtype=float32, place=Place(cpu), stop_gradient=False,\n",
      "       [0.00009610])\n"
     ]
    },
    {
     "name": "stdout",
     "output_type": "stream",
     "text": [
      "epoch 3,loss Tensor(shape=[1], dtype=float32, place=Place(cpu), stop_gradient=False,\n",
      "       [0.00009587])\n"
     ]
    }
   ],
   "source": [
    "num_epochs = 3\n",
    "for epoch in range(num_epochs):\n",
    "    for i,(X, y) in enumerate (data_iter()):\n",
    "        l = loss(net(X) ,y)\n",
    "        trainer.clear_grad()\n",
    "        l.backward()\n",
    "        trainer.step()\n",
    "    l = loss(net(features), labels)\n",
    "    print(f'epoch {epoch + 1},'f'loss {l}')"
   ]
  },
  {
   "cell_type": "markdown",
   "id": "a4ddb80b",
   "metadata": {
    "origin_pos": 58
   },
   "source": [
    "下面我们[**比较生成数据集的真实参数和通过有限数据训练获得的模型参数**]。\n",
    "要访问参数，我们首先从`net`访问所需的层，然后读取该层的权重和偏置。\n",
    "正如在从零开始实现中一样，我们估计得到的参数与生成数据的真实参数非常接近。\n"
   ]
  },
  {
   "cell_type": "code",
   "execution_count": 11,
   "id": "b60d6b49",
   "metadata": {
    "execution": {
     "iopub.execute_input": "2022-12-07T20:14:38.797709Z",
     "iopub.status.busy": "2022-12-07T20:14:38.797137Z",
     "iopub.status.idle": "2022-12-07T20:14:38.802804Z",
     "shell.execute_reply": "2022-12-07T20:14:38.802004Z"
    },
    "origin_pos": 62,
    "tab": [
     "paddle"
    ]
   },
   "outputs": [
    {
     "name": "stdout",
     "output_type": "stream",
     "text": [
      "w的估计误差： Tensor(shape=[2], dtype=float32, place=Place(cpu), stop_gradient=False,\n",
      "       [-0.00035787, -0.00121379])\n",
      "b的估计误差： Tensor(shape=[1], dtype=float32, place=Place(cpu), stop_gradient=False,\n",
      "       [0.00001764])\n"
     ]
    }
   ],
   "source": [
    "w = net[0].weight\n",
    "print('w的估计误差：', true_w - w.reshape(true_w.shape))\n",
    "b = net[0].bias\n",
    "print('b的估计误差：', true_b - b)"
   ]
  },
  {
   "cell_type": "markdown",
   "id": "a3159c18",
   "metadata": {
    "origin_pos": 63
   },
   "source": [
    "## 小结\n"
   ]
  },
  {
   "cell_type": "markdown",
   "id": "97e312cd",
   "metadata": {
    "origin_pos": 67
   },
   "source": [
    "## 练习\n",
    "\n",
    "1. 如果将小批量的总损失替换为小批量损失的平均值，需要如何更改学习率？\n",
    "1. 查看深度学习框架文档，它们提供了哪些损失函数和初始化方法？用Huber损失代替原损失，即\n",
    "    $$l(y,y') = \\begin{cases}|y-y'| -\\frac{\\sigma}{2} & \\text{ if } |y-y'| > \\sigma \\\\ \\frac{1}{2 \\sigma} (y-y')^2 & \\text{ 其它情况}\\end{cases}$$\n",
    "1. 如何访问线性回归的梯度？\n"
   ]
  },
  {
   "cell_type": "markdown",
   "id": "524dfe8e",
   "metadata": {
    "origin_pos": 71,
    "tab": [
     "paddle"
    ]
   },
   "source": [
    "[Discussions](https://discuss.d2l.ai/t/11690)\n"
   ]
  }
 ],
 "metadata": {
  "language_info": {
   "name": "python"
  }
 },
 "nbformat": 4,
 "nbformat_minor": 5
}