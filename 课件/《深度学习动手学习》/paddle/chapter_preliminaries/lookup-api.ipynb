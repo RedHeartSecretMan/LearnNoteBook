{
 "cells": [
  {
   "cell_type": "markdown",
   "id": "3100ff8e",
   "metadata": {
    "origin_pos": 0
   },
   "source": [
    "# 查阅文档\n"
   ]
  },
  {
   "cell_type": "markdown",
   "id": "2ff4f5c4",
   "metadata": {
    "origin_pos": 4
   },
   "source": [
    "## 查找模块中的所有函数和类\n",
    "\n",
    "为了知道模块中可以调用哪些函数和类，可以调用`dir`函数。\n",
    "例如，我们可以(**查询随机数生成模块中的所有属性：**)\n"
   ]
  },
  {
   "cell_type": "code",
   "execution_count": 1,
   "id": "0e253213",
   "metadata": {
    "execution": {
     "iopub.execute_input": "2022-12-07T20:10:46.897128Z",
     "iopub.status.busy": "2022-12-07T20:10:46.896608Z",
     "iopub.status.idle": "2022-12-07T20:10:48.302503Z",
     "shell.execute_reply": "2022-12-07T20:10:48.301569Z"
    },
    "origin_pos": 8,
    "tab": [
     "paddle"
    ]
   },
   "outputs": [
    {
     "name": "stdout",
     "output_type": "stream",
     "text": [
      "['AbsTransform', 'AffineTransform', 'Beta', 'Categorical', 'ChainTransform', 'Dirichlet', 'Distribution', 'ExpTransform', 'ExponentialFamily', 'Independent', 'IndependentTransform', 'Multinomial', 'Normal', 'PowerTransform', 'ReshapeTransform', 'SigmoidTransform', 'SoftmaxTransform', 'StackTransform', 'StickBreakingTransform', 'TanhTransform', 'Transform', 'TransformedDistribution', 'Uniform', '__all__', '__builtins__', '__cached__', '__doc__', '__file__', '__loader__', '__name__', '__package__', '__path__', '__spec__', 'beta', 'categorical', 'constraint', 'dirichlet', 'distribution', 'exponential_family', 'independent', 'kl', 'kl_divergence', 'multinomial', 'normal', 'register_kl', 'transform', 'transformed_distribution', 'uniform', 'variable']\n"
     ]
    }
   ],
   "source": [
    "import warnings\n",
    "\n",
    "warnings.filterwarnings(action='ignore')\n",
    "import paddle\n",
    "\n",
    "print(dir(paddle.distribution))"
   ]
  },
  {
   "cell_type": "markdown",
   "id": "05a28ba6",
   "metadata": {
    "origin_pos": 9
   },
   "source": [
    "通常可以忽略以“`__`”（双下划线）开始和结束的函数，它们是Python中的特殊对象，\n",
    "或以单个“`_`”（单下划线）开始的函数，它们通常是内部函数。\n",
    "根据剩余的函数名或属性名，我们可能会猜测这个模块提供了各种生成随机数的方法，\n",
    "包括从均匀分布（`uniform`）、正态分布（`normal`）和多项分布（`multinomial`）中采样。\n",
    "\n",
    "## 查找特定函数和类的用法\n",
    "\n",
    "有关如何使用给定函数或类的更具体说明，可以调用`help`函数。\n",
    "例如，我们来[**查看张量`ones`函数的用法。**]\n"
   ]
  },
  {
   "cell_type": "code",
   "execution_count": 2,
   "id": "733221b7",
   "metadata": {
    "execution": {
     "iopub.execute_input": "2022-12-07T20:10:48.306635Z",
     "iopub.status.busy": "2022-12-07T20:10:48.305954Z",
     "iopub.status.idle": "2022-12-07T20:10:48.311330Z",
     "shell.execute_reply": "2022-12-07T20:10:48.310544Z"
    },
    "origin_pos": 13,
    "tab": [
     "paddle"
    ]
   },
   "outputs": [
    {
     "name": "stdout",
     "output_type": "stream",
     "text": [
      "Help on function ones in module paddle.tensor.creation:\n",
      "\n",
      "ones(shape, dtype=None, name=None)\n",
      "    The OP creates a tensor of specified :attr:`shape` and :attr:`dtype`, and fills it with 1.\n",
      "    \n",
      "    Args:\n",
      "        shape(tuple|list|Tensor): Shape of the Tensor to be created, the data type of shape is int32 or int64.\n",
      "        dtype(np.dtype|str, optional): Data type of output Tensor, it supports\n",
      "            bool, float16, float32, float64, int32 and int64. Default: if None, the data type is 'float32'.\n",
      "        name(str, optional): The default value is None. Normally there is no need for user to set this property. For more information, please refer to :ref:`api_guide_Name`\n",
      "    \n",
      "    Returns:\n",
      "        Tensor: A tensor of data type :attr:`dtype` with shape :attr:`shape` and all elements set to 1.\n",
      "    \n",
      "    Examples:\n",
      "        .. code-block:: python\n",
      "    \n",
      "          import paddle \n",
      "          \n",
      "          # default dtype for ones OP\n",
      "          data1 = paddle.ones(shape=[3, 2]) \n",
      "          # [[1. 1.]\n",
      "          #  [1. 1.]\n",
      "          #  [1. 1.]]\n",
      "          \n",
      "          data2 = paddle.ones(shape=[2, 2], dtype='int32') \n",
      "          # [[1 1]\n",
      "          #  [1 1]]\n",
      "          \n",
      "          # shape is a Tensor\n",
      "          shape = paddle.full(shape=[2], dtype='int32', fill_value=2)\n",
      "          data3 = paddle.ones(shape=shape, dtype='int32') \n",
      "          # [[1 1]\n",
      "          #  [1 1]]\n",
      "\n"
     ]
    }
   ],
   "source": [
    "help(paddle.ones)"
   ]
  },
  {
   "cell_type": "markdown",
   "id": "999a5b70",
   "metadata": {
    "origin_pos": 14
   },
   "source": [
    "从文档中，我们可以看到`ones`函数创建一个具有指定形状的新张量，并将所有元素值设置为1。\n",
    "下面来[**运行一个快速测试**]来确认这一解释：\n"
   ]
  },
  {
   "cell_type": "code",
   "execution_count": 3,
   "id": "3bcc161c",
   "metadata": {
    "execution": {
     "iopub.execute_input": "2022-12-07T20:10:48.314616Z",
     "iopub.status.busy": "2022-12-07T20:10:48.314198Z",
     "iopub.status.idle": "2022-12-07T20:10:48.326916Z",
     "shell.execute_reply": "2022-12-07T20:10:48.325794Z"
    },
    "origin_pos": 18,
    "tab": [
     "paddle"
    ]
   },
   "outputs": [
    {
     "data": {
      "text/plain": [
       "Tensor(shape=[4], dtype=float32, place=Place(cpu), stop_gradient=True,\n",
       "       [1., 1., 1., 1.])"
      ]
     },
     "execution_count": 3,
     "metadata": {},
     "output_type": "execute_result"
    }
   ],
   "source": [
    "paddle.ones([4], dtype='float32')"
   ]
  },
  {
   "cell_type": "markdown",
   "id": "f86112b4",
   "metadata": {
    "origin_pos": 19
   },
   "source": [
    "在Jupyter记事本中，我们可以使用`?`指令在另一个浏览器窗口中显示文档。\n",
    "例如，`list?`指令将创建与`help(list)`指令几乎相同的内容，并在新的浏览器窗口中显示它。\n",
    "此外，如果我们使用两个问号，如`list??`，将显示实现该函数的Python代码。\n",
    "\n",
    "## 小结\n",
    "\n",
    "* 官方文档提供了本书之外的大量描述和示例。\n",
    "* 可以通过调用`dir`和`help`函数或在Jupyter记事本中使用`?`和`??`查看API的用法文档。\n",
    "\n",
    "## 练习\n",
    "\n",
    "1. 在深度学习框架中查找任何函数或类的文档。请尝试在这个框架的官方网站上找到文档。\n"
   ]
  },
  {
   "cell_type": "markdown",
   "id": "556761cc",
   "metadata": {
    "origin_pos": 23,
    "tab": [
     "paddle"
    ]
   },
   "source": [
    "[Discussions](https://discuss.d2l.ai/t/11686)\n"
   ]
  }
 ],
 "metadata": {
  "language_info": {
   "name": "python"
  }
 },
 "nbformat": 4,
 "nbformat_minor": 5
}